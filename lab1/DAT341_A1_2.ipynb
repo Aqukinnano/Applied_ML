{
 "cells": [
  {
   "metadata": {
    "ExecuteTime": {
     "end_time": "2025-01-26T17:26:57.073902Z",
     "start_time": "2025-01-26T17:26:57.066788Z"
    }
   },
   "cell_type": "code",
   "source": "## Task 1: A classification example: fetal heart condition diagnosis",
   "id": "7433c8774b4a3b3a",
   "outputs": [],
   "execution_count": 1
  },
  {
   "metadata": {},
   "cell_type": "markdown",
   "source": "Step1",
   "id": "885dd9e9984f47a1"
  },
  {
   "metadata": {
    "ExecuteTime": {
     "end_time": "2025-01-26T17:26:57.810360Z",
     "start_time": "2025-01-26T17:26:57.083375Z"
    }
   },
   "cell_type": "code",
   "source": [
    "import pandas as pd\n",
    "from sklearn.model_selection import train_test_split\n",
    "  \n",
    "# Read the CSV file.\n",
    "data = pd.read_csv(\"C:/Users/xiach/Downloads/CTG.csv\", skiprows=1)\n",
    "\n",
    "# Select the relevant numerical columns.\n",
    "selected_cols = ['LB', 'AC', 'FM', 'UC', 'DL', 'DS', 'DP', 'ASTV', 'MSTV', 'ALTV',\n",
    "                 'MLTV', 'Width', 'Min', 'Max', 'Nmax', 'Nzeros', 'Mode', 'Mean',\n",
    "                 'Median', 'Variance', 'Tendency', 'NSP']\n",
    "data = data[selected_cols].dropna()\n",
    "\n",
    "# Shuffle the dataset.\n",
    "data_shuffled = data.sample(frac=1.0, random_state=0)\n",
    "\n",
    "# Split into input part X and output part Y.\n",
    "X = data_shuffled.drop('NSP', axis=1)\n",
    "\n",
    "# Map the diagnosis code to a human-readable label.\n",
    "def to_label(y):\n",
    "    return [None, 'normal', 'suspect', 'pathologic'][(int(y))]\n",
    "\n",
    "Y = data_shuffled['NSP'].apply(to_label)\n",
    "\n",
    "# Partition the data into training and test sets.\n",
    "Xtrain, Xtest, Ytrain, Ytest = train_test_split(X, Y, test_size=0.2, random_state=0)"
   ],
   "id": "f4cdad85111c58a8",
   "outputs": [],
   "execution_count": 2
  },
  {
   "metadata": {
    "ExecuteTime": {
     "end_time": "2025-01-26T17:26:57.899546Z",
     "start_time": "2025-01-26T17:26:57.886281Z"
    }
   },
   "cell_type": "code",
   "source": "X.head()",
   "id": "359b34ccf67ab0fc",
   "outputs": [
    {
     "data": {
      "text/plain": [
       "         LB   AC   FM   UC   DL   DS   DP  ASTV  MSTV  ALTV  ...  Width  \\\n",
       "658   130.0  1.0  0.0  3.0  0.0  0.0  0.0  24.0   1.2  12.0  ...   35.0   \n",
       "1734  134.0  9.0  1.0  8.0  5.0  0.0  0.0  59.0   1.2   0.0  ...  109.0   \n",
       "1226  125.0  1.0  0.0  4.0  0.0  0.0  0.0  43.0   0.7  31.0  ...   21.0   \n",
       "1808  143.0  0.0  0.0  1.0  0.0  0.0  0.0  69.0   0.3   6.0  ...   27.0   \n",
       "825   152.0  0.0  0.0  4.0  0.0  0.0  0.0  62.0   0.4  59.0  ...   25.0   \n",
       "\n",
       "        Min    Max  Nmax  Nzeros   Mode   Mean  Median  Variance  Tendency  \n",
       "658   120.0  155.0   1.0     0.0  134.0  133.0   135.0       1.0       0.0  \n",
       "1734   80.0  189.0   6.0     0.0  150.0  146.0   150.0      33.0       0.0  \n",
       "1226  120.0  141.0   0.0     0.0  131.0  130.0   132.0       1.0       0.0  \n",
       "1808  132.0  159.0   1.0     0.0  145.0  144.0   146.0       1.0       0.0  \n",
       "825   136.0  161.0   0.0     0.0  159.0  156.0   158.0       1.0       1.0  \n",
       "\n",
       "[5 rows x 21 columns]"
      ],
      "text/html": [
       "<div>\n",
       "<style scoped>\n",
       "    .dataframe tbody tr th:only-of-type {\n",
       "        vertical-align: middle;\n",
       "    }\n",
       "\n",
       "    .dataframe tbody tr th {\n",
       "        vertical-align: top;\n",
       "    }\n",
       "\n",
       "    .dataframe thead th {\n",
       "        text-align: right;\n",
       "    }\n",
       "</style>\n",
       "<table border=\"1\" class=\"dataframe\">\n",
       "  <thead>\n",
       "    <tr style=\"text-align: right;\">\n",
       "      <th></th>\n",
       "      <th>LB</th>\n",
       "      <th>AC</th>\n",
       "      <th>FM</th>\n",
       "      <th>UC</th>\n",
       "      <th>DL</th>\n",
       "      <th>DS</th>\n",
       "      <th>DP</th>\n",
       "      <th>ASTV</th>\n",
       "      <th>MSTV</th>\n",
       "      <th>ALTV</th>\n",
       "      <th>...</th>\n",
       "      <th>Width</th>\n",
       "      <th>Min</th>\n",
       "      <th>Max</th>\n",
       "      <th>Nmax</th>\n",
       "      <th>Nzeros</th>\n",
       "      <th>Mode</th>\n",
       "      <th>Mean</th>\n",
       "      <th>Median</th>\n",
       "      <th>Variance</th>\n",
       "      <th>Tendency</th>\n",
       "    </tr>\n",
       "  </thead>\n",
       "  <tbody>\n",
       "    <tr>\n",
       "      <th>658</th>\n",
       "      <td>130.0</td>\n",
       "      <td>1.0</td>\n",
       "      <td>0.0</td>\n",
       "      <td>3.0</td>\n",
       "      <td>0.0</td>\n",
       "      <td>0.0</td>\n",
       "      <td>0.0</td>\n",
       "      <td>24.0</td>\n",
       "      <td>1.2</td>\n",
       "      <td>12.0</td>\n",
       "      <td>...</td>\n",
       "      <td>35.0</td>\n",
       "      <td>120.0</td>\n",
       "      <td>155.0</td>\n",
       "      <td>1.0</td>\n",
       "      <td>0.0</td>\n",
       "      <td>134.0</td>\n",
       "      <td>133.0</td>\n",
       "      <td>135.0</td>\n",
       "      <td>1.0</td>\n",
       "      <td>0.0</td>\n",
       "    </tr>\n",
       "    <tr>\n",
       "      <th>1734</th>\n",
       "      <td>134.0</td>\n",
       "      <td>9.0</td>\n",
       "      <td>1.0</td>\n",
       "      <td>8.0</td>\n",
       "      <td>5.0</td>\n",
       "      <td>0.0</td>\n",
       "      <td>0.0</td>\n",
       "      <td>59.0</td>\n",
       "      <td>1.2</td>\n",
       "      <td>0.0</td>\n",
       "      <td>...</td>\n",
       "      <td>109.0</td>\n",
       "      <td>80.0</td>\n",
       "      <td>189.0</td>\n",
       "      <td>6.0</td>\n",
       "      <td>0.0</td>\n",
       "      <td>150.0</td>\n",
       "      <td>146.0</td>\n",
       "      <td>150.0</td>\n",
       "      <td>33.0</td>\n",
       "      <td>0.0</td>\n",
       "    </tr>\n",
       "    <tr>\n",
       "      <th>1226</th>\n",
       "      <td>125.0</td>\n",
       "      <td>1.0</td>\n",
       "      <td>0.0</td>\n",
       "      <td>4.0</td>\n",
       "      <td>0.0</td>\n",
       "      <td>0.0</td>\n",
       "      <td>0.0</td>\n",
       "      <td>43.0</td>\n",
       "      <td>0.7</td>\n",
       "      <td>31.0</td>\n",
       "      <td>...</td>\n",
       "      <td>21.0</td>\n",
       "      <td>120.0</td>\n",
       "      <td>141.0</td>\n",
       "      <td>0.0</td>\n",
       "      <td>0.0</td>\n",
       "      <td>131.0</td>\n",
       "      <td>130.0</td>\n",
       "      <td>132.0</td>\n",
       "      <td>1.0</td>\n",
       "      <td>0.0</td>\n",
       "    </tr>\n",
       "    <tr>\n",
       "      <th>1808</th>\n",
       "      <td>143.0</td>\n",
       "      <td>0.0</td>\n",
       "      <td>0.0</td>\n",
       "      <td>1.0</td>\n",
       "      <td>0.0</td>\n",
       "      <td>0.0</td>\n",
       "      <td>0.0</td>\n",
       "      <td>69.0</td>\n",
       "      <td>0.3</td>\n",
       "      <td>6.0</td>\n",
       "      <td>...</td>\n",
       "      <td>27.0</td>\n",
       "      <td>132.0</td>\n",
       "      <td>159.0</td>\n",
       "      <td>1.0</td>\n",
       "      <td>0.0</td>\n",
       "      <td>145.0</td>\n",
       "      <td>144.0</td>\n",
       "      <td>146.0</td>\n",
       "      <td>1.0</td>\n",
       "      <td>0.0</td>\n",
       "    </tr>\n",
       "    <tr>\n",
       "      <th>825</th>\n",
       "      <td>152.0</td>\n",
       "      <td>0.0</td>\n",
       "      <td>0.0</td>\n",
       "      <td>4.0</td>\n",
       "      <td>0.0</td>\n",
       "      <td>0.0</td>\n",
       "      <td>0.0</td>\n",
       "      <td>62.0</td>\n",
       "      <td>0.4</td>\n",
       "      <td>59.0</td>\n",
       "      <td>...</td>\n",
       "      <td>25.0</td>\n",
       "      <td>136.0</td>\n",
       "      <td>161.0</td>\n",
       "      <td>0.0</td>\n",
       "      <td>0.0</td>\n",
       "      <td>159.0</td>\n",
       "      <td>156.0</td>\n",
       "      <td>158.0</td>\n",
       "      <td>1.0</td>\n",
       "      <td>1.0</td>\n",
       "    </tr>\n",
       "  </tbody>\n",
       "</table>\n",
       "<p>5 rows × 21 columns</p>\n",
       "</div>"
      ]
     },
     "execution_count": 3,
     "metadata": {},
     "output_type": "execute_result"
    }
   ],
   "execution_count": 3
  },
  {
   "metadata": {},
   "cell_type": "markdown",
   "source": "Step2",
   "id": "8dc29e055e528a0e"
  },
  {
   "metadata": {
    "ExecuteTime": {
     "end_time": "2025-01-26T17:26:57.964776Z",
     "start_time": "2025-01-26T17:26:57.953874Z"
    }
   },
   "cell_type": "code",
   "source": [
    "\n",
    "from sklearn.dummy import DummyClassifier\n",
    "\n",
    "clf = DummyClassifier(strategy='most_frequent')\n",
    "from sklearn.model_selection import cross_val_score\n",
    "\n",
    "import numpy as np\n",
    "scores = cross_val_score(clf, Xtrain, Ytrain)\n",
    "print(\"Scores:\", scores)\n",
    "print(\"Mean score:\", np.mean(scores))"
   ],
   "id": "84a276478bacc37e",
   "outputs": [
    {
     "name": "stdout",
     "output_type": "stream",
     "text": [
      "Scores: [0.78235294 0.78235294 0.77941176 0.77941176 0.77941176]\n",
      "Mean score: 0.7805882352941176\n"
     ]
    }
   ],
   "execution_count": 4
  },
  {
   "metadata": {},
   "cell_type": "markdown",
   "source": "Step3",
   "id": "ce001337c7cf7615"
  },
  {
   "metadata": {
    "ExecuteTime": {
     "end_time": "2025-01-26T17:27:05.815642Z",
     "start_time": "2025-01-26T17:26:58.009885Z"
    }
   },
   "cell_type": "code",
   "source": [
    "from sklearn.tree import DecisionTreeClassifier\n",
    "from sklearn.ensemble import RandomForestClassifier, GradientBoostingClassifier\n",
    "from sklearn.linear_model import Perceptron, LogisticRegression\n",
    "from sklearn.svm import LinearSVC\n",
    "from sklearn.neural_network import MLPClassifier\n",
    "\n",
    "\n",
    "# create dictionary of classifiers\n",
    "classifiers = {\n",
    "    'Decision Tree': DecisionTreeClassifier(),\n",
    "    'Random Forest': RandomForestClassifier(),\n",
    "    'Gradient Boosting': GradientBoostingClassifier(),\n",
    "    'Perceptron': Perceptron(),\n",
    "    'Logistic Regression': LogisticRegression(max_iter=2000),\n",
    "    'Linear SVC': LinearSVC(),\n",
    "    'Neural Network': MLPClassifier(random_state=0, max_iter=2000)\n",
    "}\n",
    "\n",
    "\n",
    "# compute the cross-validation accuuracy\n",
    "# 5-fold instead of 3-fold cross-validation\n",
    "# Accuracy as evaluation metric\n",
    "for name, clf in classifiers.items():\n",
    "    score = cross_val_score(clf, Xtrain, Ytrain, cv=5, scoring='accuracy').mean()\n",
    "    print(f'{name}: {score}')"
   ],
   "id": "891738c0471916cf",
   "outputs": [
    {
     "name": "stdout",
     "output_type": "stream",
     "text": [
      "Decision Tree: 0.9241176470588235\n",
      "Random Forest: 0.9400000000000001\n",
      "Gradient Boosting: 0.9488235294117647\n",
      "Perceptron: 0.825294117647059\n"
     ]
    },
    {
     "name": "stderr",
     "output_type": "stream",
     "text": [
      "D:\\Anaconda\\Lib\\site-packages\\sklearn\\linear_model\\_logistic.py:469: ConvergenceWarning: lbfgs failed to converge (status=1):\n",
      "STOP: TOTAL NO. of ITERATIONS REACHED LIMIT.\n",
      "\n",
      "Increase the number of iterations (max_iter) or scale the data as shown in:\n",
      "    https://scikit-learn.org/stable/modules/preprocessing.html\n",
      "Please also refer to the documentation for alternative solver options:\n",
      "    https://scikit-learn.org/stable/modules/linear_model.html#logistic-regression\n",
      "  n_iter_i = _check_optimize_result(\n",
      "D:\\Anaconda\\Lib\\site-packages\\sklearn\\linear_model\\_logistic.py:469: ConvergenceWarning: lbfgs failed to converge (status=1):\n",
      "STOP: TOTAL NO. of ITERATIONS REACHED LIMIT.\n",
      "\n",
      "Increase the number of iterations (max_iter) or scale the data as shown in:\n",
      "    https://scikit-learn.org/stable/modules/preprocessing.html\n",
      "Please also refer to the documentation for alternative solver options:\n",
      "    https://scikit-learn.org/stable/modules/linear_model.html#logistic-regression\n",
      "  n_iter_i = _check_optimize_result(\n",
      "D:\\Anaconda\\Lib\\site-packages\\sklearn\\linear_model\\_logistic.py:469: ConvergenceWarning: lbfgs failed to converge (status=1):\n",
      "STOP: TOTAL NO. of ITERATIONS REACHED LIMIT.\n",
      "\n",
      "Increase the number of iterations (max_iter) or scale the data as shown in:\n",
      "    https://scikit-learn.org/stable/modules/preprocessing.html\n",
      "Please also refer to the documentation for alternative solver options:\n",
      "    https://scikit-learn.org/stable/modules/linear_model.html#logistic-regression\n",
      "  n_iter_i = _check_optimize_result(\n",
      "D:\\Anaconda\\Lib\\site-packages\\sklearn\\linear_model\\_logistic.py:469: ConvergenceWarning: lbfgs failed to converge (status=1):\n",
      "STOP: TOTAL NO. of ITERATIONS REACHED LIMIT.\n",
      "\n",
      "Increase the number of iterations (max_iter) or scale the data as shown in:\n",
      "    https://scikit-learn.org/stable/modules/preprocessing.html\n",
      "Please also refer to the documentation for alternative solver options:\n",
      "    https://scikit-learn.org/stable/modules/linear_model.html#logistic-regression\n",
      "  n_iter_i = _check_optimize_result(\n",
      "D:\\Anaconda\\Lib\\site-packages\\sklearn\\linear_model\\_logistic.py:469: ConvergenceWarning: lbfgs failed to converge (status=1):\n",
      "STOP: TOTAL NO. of ITERATIONS REACHED LIMIT.\n",
      "\n",
      "Increase the number of iterations (max_iter) or scale the data as shown in:\n",
      "    https://scikit-learn.org/stable/modules/preprocessing.html\n",
      "Please also refer to the documentation for alternative solver options:\n",
      "    https://scikit-learn.org/stable/modules/linear_model.html#logistic-regression\n",
      "  n_iter_i = _check_optimize_result(\n",
      "D:\\Anaconda\\Lib\\site-packages\\sklearn\\svm\\_classes.py:31: FutureWarning: The default value of `dual` will change from `True` to `'auto'` in 1.5. Set the value of `dual` explicitly to suppress the warning.\n",
      "  warnings.warn(\n",
      "D:\\Anaconda\\Lib\\site-packages\\sklearn\\svm\\_base.py:1237: ConvergenceWarning: Liblinear failed to converge, increase the number of iterations.\n",
      "  warnings.warn(\n",
      "D:\\Anaconda\\Lib\\site-packages\\sklearn\\svm\\_classes.py:31: FutureWarning: The default value of `dual` will change from `True` to `'auto'` in 1.5. Set the value of `dual` explicitly to suppress the warning.\n",
      "  warnings.warn(\n",
      "D:\\Anaconda\\Lib\\site-packages\\sklearn\\svm\\_base.py:1237: ConvergenceWarning: Liblinear failed to converge, increase the number of iterations.\n",
      "  warnings.warn(\n",
      "D:\\Anaconda\\Lib\\site-packages\\sklearn\\svm\\_classes.py:31: FutureWarning: The default value of `dual` will change from `True` to `'auto'` in 1.5. Set the value of `dual` explicitly to suppress the warning.\n",
      "  warnings.warn(\n",
      "D:\\Anaconda\\Lib\\site-packages\\sklearn\\svm\\_base.py:1237: ConvergenceWarning: Liblinear failed to converge, increase the number of iterations.\n",
      "  warnings.warn(\n",
      "D:\\Anaconda\\Lib\\site-packages\\sklearn\\svm\\_classes.py:31: FutureWarning: The default value of `dual` will change from `True` to `'auto'` in 1.5. Set the value of `dual` explicitly to suppress the warning.\n",
      "  warnings.warn(\n"
     ]
    },
    {
     "name": "stdout",
     "output_type": "stream",
     "text": [
      "Logistic Regression: 0.8911764705882353\n"
     ]
    },
    {
     "name": "stderr",
     "output_type": "stream",
     "text": [
      "D:\\Anaconda\\Lib\\site-packages\\sklearn\\svm\\_base.py:1237: ConvergenceWarning: Liblinear failed to converge, increase the number of iterations.\n",
      "  warnings.warn(\n",
      "D:\\Anaconda\\Lib\\site-packages\\sklearn\\svm\\_classes.py:31: FutureWarning: The default value of `dual` will change from `True` to `'auto'` in 1.5. Set the value of `dual` explicitly to suppress the warning.\n",
      "  warnings.warn(\n",
      "D:\\Anaconda\\Lib\\site-packages\\sklearn\\svm\\_base.py:1237: ConvergenceWarning: Liblinear failed to converge, increase the number of iterations.\n",
      "  warnings.warn(\n"
     ]
    },
    {
     "name": "stdout",
     "output_type": "stream",
     "text": [
      "Linear SVC: 0.8647058823529411\n",
      "Neural Network: 0.8847058823529412\n"
     ]
    }
   ],
   "execution_count": 5
  },
  {
   "metadata": {},
   "cell_type": "markdown",
   "source": [
    "Step4\n",
    "As we can see above, Gradient Boosting has the highest accuary."
   ],
   "id": "4222d423e620cf82"
  },
  {
   "metadata": {
    "ExecuteTime": {
     "end_time": "2025-01-26T17:27:06.608492Z",
     "start_time": "2025-01-26T17:27:05.840953Z"
    }
   },
   "cell_type": "code",
   "source": [
    "from sklearn.metrics import accuracy_score\n",
    "  \n",
    "gbc = GradientBoostingClassifier()\n",
    "gbc.fit(Xtrain, Ytrain)\n",
    "Yguess = gbc.predict(Xtest)\n",
    "print(f\"Accuracy: {accuracy_score(Ytest, Yguess)}\")\n"
   ],
   "id": "4c516efac82bed08",
   "outputs": [
    {
     "name": "stdout",
     "output_type": "stream",
     "text": [
      "Accuracy: 0.9295774647887324\n"
     ]
    }
   ],
   "execution_count": 6
  },
  {
   "metadata": {},
   "cell_type": "markdown",
   "source": "##  Task 2: Decision trees for classification",
   "id": "16011f2b293168ef"
  },
  {
   "metadata": {
    "ExecuteTime": {
     "end_time": "2025-01-26T17:27:06.641047Z",
     "start_time": "2025-01-26T17:27:06.618150Z"
    }
   },
   "cell_type": "code",
   "source": [
    "from sklearn.tree import DecisionTreeClassifier\n",
    "from sklearn.metrics import accuracy_score\n",
    "import numpy as np\n",
    "clf = DecisionTreeClassifier(max_depth = 1)\n",
    "clf.fit(Xtrain, Ytrain);\n",
    "from sklearn.model_selection import cross_val_score\n",
    "\n",
    "cross_val_score(clf, Xtrain, Ytrain, cv=5).mean()"
   ],
   "id": "be0a8a2964c730f8",
   "outputs": [
    {
     "data": {
      "text/plain": [
       "0.8164705882352941"
      ]
     },
     "execution_count": 7,
     "metadata": {},
     "output_type": "execute_result"
    }
   ],
   "execution_count": 7
  },
  {
   "metadata": {
    "ExecuteTime": {
     "end_time": "2025-01-26T17:27:06.670562Z",
     "start_time": "2025-01-26T17:27:06.665835Z"
    }
   },
   "cell_type": "code",
   "source": [
    "class DecisionTreeLeaf:\n",
    "\n",
    "    def __init__(self, value):\n",
    "            self.value = value\n",
    "    \n",
    "       # This method computes the prediction for this leaf node. This will just return a constant value.\\n\",\n",
    "    def predict(self, x):\n",
    "           return self.value\n",
    "    \n",
    "        # Utility function to draw a tree visually using graphviz.\\n\",\n",
    "    def draw_tree(self, graph, node_counter, names):\n",
    "           node_id = str(node_counter)\n",
    "           val_str = f'{self.value:.4g}' if isinstance(self.value, float) else str(self.value)\n",
    "           graph.node(node_id, val_str, style='filled')\n",
    "           return node_counter+1, node_id\n",
    "\n",
    "    def __eq__(self, other):\n",
    "        if isinstance(other, DecisionTreeLeaf):\n",
    "               return self.value == other.value\n",
    "        else:\n",
    "               return False\n",
    "        \n",
    "    def to_str(self, indent, lines, names):\n",
    "           val_str = f'{self.value:.4g}' if isinstance(self.value, float) else str(self.value)\n",
    "           lines.append(' '*indent + val_str)"
   ],
   "id": "9b8837ded3cae377",
   "outputs": [],
   "execution_count": 8
  },
  {
   "metadata": {
    "ExecuteTime": {
     "end_time": "2025-01-26T17:27:06.696333Z",
     "start_time": "2025-01-26T17:27:06.690451Z"
    }
   },
   "cell_type": "code",
   "source": [
    "class DecisionTreeBranch:\n",
    "    \n",
    "        def __init__(self, feature, threshold, low_subtree, high_subtree):\n",
    "            self.feature = feature\n",
    "            self.threshold = threshold\n",
    "            self.low_subtree = low_subtree\n",
    "            self.high_subtree = high_subtree\n",
    "    \n",
    "        # For a branch node, we compute the prediction by first considering the feature, and then \\n\",\n",
    "        # calling the upper or lower subtree, depending on whether the feature is or isn't greater\\n\",\n",
    "        # than the threshold.\\n\",\n",
    "        def predict(self, x):\n",
    "            if x[self.feature] <= self.threshold:\n",
    "                return self.low_subtree.predict(x)\n",
    "            else:\n",
    "                return self.high_subtree.predict(x)\n",
    "    \n",
    "        # Utility function to draw a tree visually using graphviz.\\n\",\n",
    "        def draw_tree(self, graph, node_counter, names):\n",
    "            node_counter, low_id = self.low_subtree.draw_tree(graph, node_counter, names)\n",
    "            node_counter, high_id = self.high_subtree.draw_tree(graph, node_counter, names)\n",
    "            node_id = str(node_counter)\n",
    "            fname = f'F{self.feature}' if names is None else names[self.feature]\n",
    "            lbl = f'{fname} > {self.threshold:.4g}?'\n",
    "            graph.node(node_id, lbl, shape='box', fillcolor='yellow', style='filled, rounded')\n",
    "            graph.edge(node_id, low_id, 'False')\n",
    "            graph.edge(node_id, high_id, 'True')\n",
    "            return node_counter+1, node_id\n",
    "            \n",
    "        def to_str(self, indent, lines, names):\n",
    "            pad = ' '*indent\n",
    "            fname = f'F{self.feature}' if names is None else names[self.feature]\n",
    "            lines.append(pad + f'{fname} <= {self.threshold:.3g}?')\n",
    "            lines.append(pad + '  True =>')\n",
    "            self.low_subtree.to_str(indent+4, lines, names)\n",
    "            lines.append(pad + '  False =>')\n",
    "            self.high_subtree.to_str(indent+4, lines, names)\n",
    "            "
   ],
   "id": "6fbf238cd9e3d44a",
   "outputs": [],
   "execution_count": 9
  },
  {
   "metadata": {
    "ExecuteTime": {
     "end_time": "2025-01-26T17:27:06.757081Z",
     "start_time": "2025-01-26T17:27:06.736403Z"
    }
   },
   "cell_type": "code",
   "source": [
    "from graphviz import Digraph\n",
    "from sklearn.base import BaseEstimator, ClassifierMixin\n",
    "from abc import ABC, abstractmethod\n",
    "    \n",
    "class DecisionTree(ABC, BaseEstimator):\n",
    "    \n",
    "        def __init__(self, max_depth):\n",
    "            super().__init__()\n",
    "            self.max_depth = max_depth\n",
    "            \n",
    "        # As usual in scikit-learn, the training method is called *fit*. We first process the dataset so that\\n\",\n",
    "        # we're sure that it's represented as a NumPy matrix. Then we call the recursive tree-building method\\n\",\n",
    "        # called make_tree (see below).\\n\",\n",
    "        def fit(self, X, Y):\n",
    "            if isinstance(X, pd.DataFrame):\n",
    "                self.names = X.columns\n",
    "                X = X.to_numpy()\n",
    "            elif isinstance(X, list):\n",
    "                self.names = None\n",
    "                X = np.array(X)\n",
    "            else:\n",
    "                self.names = None\n",
    "            Y = np.array(Y)        \n",
    "            self.root = self.make_tree(X, Y, self.max_depth)\n",
    "            \n",
    "        def draw_tree(self):\n",
    "            graph = Digraph()\n",
    "            self.root.draw_tree(graph, 0, self.names)\n",
    "            return graph\n",
    "    \n",
    "        # By scikit-learn convention, the method *predict* computes the classification or regression output\\n\",\n",
    "        # for a set of instances.\\n\",\n",
    "        # To implement it, we call a separate method that carries out the prediction for one instance.\\n\",\n",
    "        def predict(self, X):\n",
    "            if isinstance(X, pd.DataFrame):\n",
    "                X = X.to_numpy()\n",
    "            return [self.predict_one(x) for x in X]\n",
    "    \n",
    "        # Predicting the output for one instance.\\n\",\n",
    "        def predict_one(self, x):\n",
    "            return self.root.predict(x)       \n",
    "    \n",
    "        # This is the recursive training \\n\",\n",
    "        def make_tree(self, X, Y, max_depth):\n",
    "    \n",
    "            # We start by computing the default value that will be used if we'll return a leaf node.\\n\",\n",
    "            # For classifiers, this will be the most common value in Y.\\n\",\n",
    "            default_value = self.get_default_value(Y)\n",
    "    \n",
    "            # First the two base cases in the recursion: is the training set completely\\n\",\n",
    "            # homogeneous, or have we reached the maximum depth? Then we need to return a leaf.\\n\",\n",
    "    \n",
    "            # If we have reached the maximum depth, return a leaf with the majority value.\\n\",\n",
    "            if max_depth == 0:\n",
    "                return DecisionTreeLeaf(default_value)\n",
    "    \n",
    "            # If all the instances in the remaining training set have the same output value,\\n\",\n",
    "            # return a leaf with this value.\\n\",\n",
    "            if self.is_homogeneous(Y):\n",
    "                return DecisionTreeLeaf(default_value)\n",
    "\n",
    "            # Select the \\\"most useful\\\" feature and split threshold. To rank the \\\"usefulness\\\" of features,\\n\",\n",
    "            # we use one of the classification or regression criteria.\\n\",\n",
    "            # For each feature, we call best_split (defined in a subclass). We then maximize over the features.\\n\",\n",
    "            n_features = X.shape[1]\n",
    "            \n",
    "            _, best_feature, best_threshold = max(self.best_split(X, Y, feature) \n",
    "                    for feature in range(n_features))\n",
    "            \n",
    "            if best_feature is None:\n",
    "                return DecisionTreeLeaf(default_value)\n",
    "    \n",
    "            # Split the training set into subgroups, based on whether the selected feature is greater than\\n\",\n",
    "            # the threshold or not\\n\",\n",
    "            X_low, X_high, Y_low, Y_high = self.split_by_feature(X, Y, best_feature, best_threshold)\n",
    "    \n",
    "            # Build the subtrees using a recursive call. Each subtree is associated\\n\",\n",
    "            # with a value of the feature.\\n\",\n",
    "            low_subtree = self.make_tree(X_low, Y_low, max_depth-1)\n",
    "            high_subtree = self.make_tree(X_high, Y_high, max_depth-1)\n",
    "    \n",
    "            if low_subtree == high_subtree:\n",
    "                return low_subtree\n",
    "    \n",
    "            # Return a decision tree branch containing the result.\\n\",\n",
    "            return DecisionTreeBranch(best_feature, best_threshold, low_subtree, high_subtree)\n",
    "        \n",
    "        # Utility method that splits the data into the \\\"upper\\\" and \\\"lower\\\" part, based on a feature\\n\",\n",
    "        # and a threshold.\\n\",\n",
    "        def split_by_feature(self, X, Y, feature, threshold):\n",
    "            low = X[:,feature] <= threshold\n",
    "            high = ~low\n",
    "            return X[low], X[high], Y[low], Y[high]\n",
    "        \n",
    "        def __str__(self):\n",
    "            lines = []\n",
    "            self.root.to_str(0, lines, self.names)\n",
    "            return '\\\\n'.join(lines)\n",
    "        \n",
    "        # The following three methods need to be implemented by the classification and regression subclasses.\\n\",\n",
    "        \n",
    "        @abstractmethod\n",
    "        def get_default_value(self, Y):\n",
    "            pass\n",
    "    \n",
    "        @abstractmethod\n",
    "        def is_homogeneous(self, Y):\n",
    "            pass\n",
    "    \n",
    "        @abstractmethod\n",
    "        def best_split(self, X, Y, feature):\n",
    "            pass"
   ],
   "id": "a442518dd16d878",
   "outputs": [],
   "execution_count": 10
  },
  {
   "metadata": {
    "ExecuteTime": {
     "end_time": "2025-01-26T17:27:06.789438Z",
     "start_time": "2025-01-26T17:27:06.783756Z"
    }
   },
   "cell_type": "code",
   "source": [
    "from collections import Counter\n",
    "\n",
    "class TreeClassifier(DecisionTree, ClassifierMixin):\n",
    "\n",
    "    def __init__(self, max_depth=10, criterion='maj_sum'):\n",
    "        super().__init__(max_depth)\n",
    "        self.criterion = criterion\n",
    "        \n",
    "    def fit(self, X, Y):\n",
    "        # For decision tree classifiers, there are some different ways to measure\n",
    "        # the homogeneity of subsets.\n",
    "        if self.criterion == 'maj_sum':\n",
    "            self.criterion_function = majority_sum_scorer\n",
    "        elif self.criterion == 'info_gain':\n",
    "            self.criterion_function = info_gain_scorer\n",
    "        elif self.criterion == 'gini':\n",
    "            self.criterion_function = gini_scorer\n",
    "        else:\n",
    "            raise Exception(f'Unknown criterion: {self.criterion}')\n",
    "        super().fit(X, Y)\n",
    "        self.classes_ = sorted(set(Y))\n",
    "\n",
    "    # Select a default value that is going to be used if we decide to make a leaf.\n",
    "    # We will select the most common value.\n",
    "    def get_default_value(self, Y):\n",
    "        self.class_distribution = Counter(Y)\n",
    "        return self.class_distribution.most_common(1)[0][0]\n",
    "    \n",
    "    # Checks whether a set of output values is homogeneous. In the classification case, \n",
    "    # this means that all output values are identical.\n",
    "    # We assume that we called get_default_value just before, so that we can access\n",
    "    # the class_distribution attribute. If the class distribution contains just one item,\n",
    "    # this means that the set is homogeneous.\n",
    "    def is_homogeneous(self, Y):\n",
    "        return len(self.class_distribution) == 1\n",
    "        \n",
    "    # Finds the best splitting point for a given feature. We'll keep frequency tables (Counters)\n",
    "    # for the upper and lower parts, and then compute the impurity criterion using these tables.\n",
    "    # In the end, we return a triple consisting of\n",
    "    # - the best score we found, according to the criterion we're using\n",
    "    # - the id of the feature\n",
    "    # - the threshold for the best split\n",
    "    def best_split(self, X, Y, feature):\n",
    "\n",
    "        # Create a list of input-output pairs, where we have sorted\n",
    "        # in ascending order by the input feature we're considering.\n",
    "        sorted_indices = np.argsort(X[:, feature])        \n",
    "        X_sorted = list(X[sorted_indices, feature])\n",
    "        Y_sorted = list(Y[sorted_indices])\n",
    "\n",
    "        n = len(Y)\n",
    "\n",
    "        # The frequency tables corresponding to the parts *before and including*\n",
    "        # and *after* the current element.\n",
    "        low_distr = Counter()\n",
    "        high_distr = Counter(Y)\n",
    "\n",
    "        # Keep track of the best result we've seen so far.\n",
    "        max_score = -np.inf\n",
    "        max_i = None\n",
    "\n",
    "        # Go through all the positions (excluding the last position).\n",
    "        for i in range(0, n-1):\n",
    "\n",
    "            # Input and output at the current position.\n",
    "            x_i = X_sorted[i]\n",
    "            y_i = Y_sorted[i]\n",
    "            \n",
    "            # Update the frequency tables.\n",
    "            low_distr[y_i] += 1\n",
    "            high_distr[y_i] -= 1\n",
    "\n",
    "            # If the input is equal to the input at the next position, we will\n",
    "            # not consider a split here.\n",
    "            #x_next = XY[i+1][0]\n",
    "            x_next = X_sorted[i+1]\n",
    "            if x_i == x_next:\n",
    "                continue\n",
    "\n",
    "            # Compute the homogeneity criterion for a split at this position.\n",
    "            score = self.criterion_function(i+1, low_distr, n-i-1, high_distr)\n",
    "\n",
    "            # If this is the best split, remember it.\n",
    "            if score > max_score:\n",
    "                max_score = score\n",
    "                max_i = i\n",
    "\n",
    "        # If we didn't find any split (meaning that all inputs are identical), return\n",
    "        # a dummy value.\n",
    "        if max_i is None:\n",
    "            return -np.inf, None, None\n",
    "\n",
    "        # Otherwise, return the best split we found and its score.\n",
    "        split_point = 0.5*(X_sorted[max_i] + X_sorted[max_i+1])\n",
    "        return max_score, feature, split_point"
   ],
   "id": "5f4ffd3cb15e6346",
   "outputs": [],
   "execution_count": 11
  },
  {
   "metadata": {
    "ExecuteTime": {
     "end_time": "2025-01-26T17:27:06.805812Z",
     "start_time": "2025-01-26T17:27:06.793767Z"
    }
   },
   "cell_type": "code",
   "source": [
    "def majority_sum_scorer(n_low, low_distr, n_high, high_distr):\n",
    "    maj_sum_low = low_distr.most_common(1)[0][1]\n",
    "    maj_sum_high = high_distr.most_common(1)[0][1]\n",
    "    return maj_sum_low + maj_sum_high\n",
    "    \n",
    "def entropy(distr):\n",
    "    n = sum(distr.values())\n",
    "    ps = [n_i/n for n_i in distr.values()]\n",
    "    return -sum(p*np.log2(p) if p > 0 else 0 for p in ps)\n",
    "\n",
    "def info_gain_scorer(n_low, low_distr, n_high, high_distr):\n",
    "    return -(n_low*entropy(low_distr)+n_high*entropy(high_distr))/(n_low+n_high)\n",
    "\n",
    "def gini_impurity(distr):\n",
    "    n = sum(distr.values())\n",
    "    ps = [n_i/n for n_i in distr.values()]\n",
    "    return 1-sum(p**2 for p in ps)\n",
    "    \n",
    "def gini_scorer(n_low, low_distr, n_high, high_distr):\n",
    "    return -(n_low*gini_impurity(low_distr)+n_high*gini_impurity(high_distr))/(n_low+n_high)\n"
   ],
   "id": "5010909e59a1a72c",
   "outputs": [],
   "execution_count": 12
  },
  {
   "metadata": {
    "ExecuteTime": {
     "end_time": "2025-01-26T17:27:36.584875Z",
     "start_time": "2025-01-26T17:27:06.828080Z"
    }
   },
   "cell_type": "code",
   "source": [
    "# try different max_depth value\n",
    "depths = range(1, 30)\n",
    "scores = []\n",
    "\n",
    "for depth in depths:\n",
    "   clf = TreeClassifier(max_depth=depth)\n",
    "   score = cross_val_score(clf, Xtrain, Ytrain, cv=5).mean()\n",
    "   scores.append(score)\n",
    "\n",
    "# find the best\n",
    "best_depth = depths[np.argmax(scores)]\n",
    "\n",
    "# evaluate the classifier\n",
    "best_clf = TreeClassifier(max_depth=best_depth)\n",
    "best_clf.fit(Xtrain, Ytrain)\n",
    "test_score = best_clf.score(Xtest, Ytest)\n",
    "\n",
    "print(f'Best depth: {best_depth}')\n",
    "print(f'Test accuracy: {test_score}')"
   ],
   "id": "900c597f50720311",
   "outputs": [
    {
     "name": "stdout",
     "output_type": "stream",
     "text": [
      "Best depth: 13\n",
      "Test accuracy: 0.8732394366197183\n"
     ]
    }
   ],
   "execution_count": 13
  },
  {
   "metadata": {},
   "cell_type": "markdown",
   "source": "draw a tree for illustration",
   "id": "dbc2a98918da24dc"
  },
  {
   "metadata": {
    "ExecuteTime": {
     "end_time": "2025-01-26T17:27:36.819308Z",
     "start_time": "2025-01-26T17:27:36.608775Z"
    }
   },
   "cell_type": "code",
   "source": [
    "cls = TreeClassifier(max_depth=6)\n",
    "cls.fit(Xtrain, Ytrain)\n",
    "cls.draw_tree()"
   ],
   "id": "935bbe3fd6b38508",
   "outputs": [
    {
     "data": {
      "image/svg+xml": "<?xml version=\"1.0\" encoding=\"UTF-8\" standalone=\"no\"?>\n<!DOCTYPE svg PUBLIC \"-//W3C//DTD SVG 1.1//EN\"\n \"http://www.w3.org/Graphics/SVG/1.1/DTD/svg11.dtd\">\n<!-- Generated by graphviz version 2.50.0 (0)\n -->\n<!-- Pages: 1 -->\n<svg width=\"1442pt\" height=\"566pt\"\n viewBox=\"0.00 0.00 1441.79 566.00\" xmlns=\"http://www.w3.org/2000/svg\" xmlns:xlink=\"http://www.w3.org/1999/xlink\">\n<g id=\"graph0\" class=\"graph\" transform=\"scale(1 1) rotate(0) translate(4 562)\">\n<polygon fill=\"white\" stroke=\"transparent\" points=\"-4,4 -4,-562 1437.79,-562 1437.79,4 -4,4\"/>\n<!-- 0 -->\n<g id=\"node1\" class=\"node\">\n<title>0</title>\n<ellipse fill=\"lightgrey\" stroke=\"black\" cx=\"36.4\" cy=\"-105\" rx=\"36.29\" ry=\"18\"/>\n<text text-anchor=\"middle\" x=\"36.4\" y=\"-101.3\" font-family=\"Times New Roman,serif\" font-size=\"14.00\">suspect</text>\n</g>\n<!-- 1 -->\n<g id=\"node2\" class=\"node\">\n<title>1</title>\n<ellipse fill=\"lightgrey\" stroke=\"black\" cx=\"127.4\" cy=\"-105\" rx=\"36.29\" ry=\"18\"/>\n<text text-anchor=\"middle\" x=\"127.4\" y=\"-101.3\" font-family=\"Times New Roman,serif\" font-size=\"14.00\">normal</text>\n</g>\n<!-- 2 -->\n<g id=\"node3\" class=\"node\">\n<title>2</title>\n<path fill=\"yellow\" stroke=\"black\" d=\"M157.4,-210C157.4,-210 95.4,-210 95.4,-210 89.4,-210 83.4,-204 83.4,-198 83.4,-198 83.4,-186 83.4,-186 83.4,-180 89.4,-174 95.4,-174 95.4,-174 157.4,-174 157.4,-174 163.4,-174 169.4,-180 169.4,-186 169.4,-186 169.4,-198 169.4,-198 169.4,-204 163.4,-210 157.4,-210\"/>\n<text text-anchor=\"middle\" x=\"126.4\" y=\"-188.3\" font-family=\"Times New Roman,serif\" font-size=\"14.00\">Width &gt; 21?</text>\n</g>\n<!-- 2&#45;&gt;0 -->\n<g id=\"edge1\" class=\"edge\">\n<title>2&#45;&gt;0</title>\n<path fill=\"none\" stroke=\"black\" d=\"M108.18,-173.8C94.27,-160.66 75,-142.46 59.92,-128.22\"/>\n<polygon fill=\"black\" stroke=\"black\" points=\"62.14,-125.5 52.47,-121.18 57.34,-130.59 62.14,-125.5\"/>\n<text text-anchor=\"middle\" x=\"101.9\" y=\"-144.8\" font-family=\"Times New Roman,serif\" font-size=\"14.00\">False</text>\n</g>\n<!-- 2&#45;&gt;1 -->\n<g id=\"edge2\" class=\"edge\">\n<title>2&#45;&gt;1</title>\n<path fill=\"none\" stroke=\"black\" d=\"M126.6,-173.8C126.74,-162.16 126.92,-146.55 127.08,-133.24\"/>\n<polygon fill=\"black\" stroke=\"black\" points=\"130.58,-133.22 127.19,-123.18 123.58,-133.13 130.58,-133.22\"/>\n<text text-anchor=\"middle\" x=\"140.4\" y=\"-144.8\" font-family=\"Times New Roman,serif\" font-size=\"14.00\">True</text>\n</g>\n<!-- 3 -->\n<g id=\"node4\" class=\"node\">\n<title>3</title>\n<ellipse fill=\"lightgrey\" stroke=\"black\" cx=\"150.4\" cy=\"-18\" rx=\"36.29\" ry=\"18\"/>\n<text text-anchor=\"middle\" x=\"150.4\" y=\"-14.3\" font-family=\"Times New Roman,serif\" font-size=\"14.00\">normal</text>\n</g>\n<!-- 4 -->\n<g id=\"node5\" class=\"node\">\n<title>4</title>\n<ellipse fill=\"lightgrey\" stroke=\"black\" cx=\"241.4\" cy=\"-18\" rx=\"36.29\" ry=\"18\"/>\n<text text-anchor=\"middle\" x=\"241.4\" y=\"-14.3\" font-family=\"Times New Roman,serif\" font-size=\"14.00\">suspect</text>\n</g>\n<!-- 5 -->\n<g id=\"node6\" class=\"node\">\n<title>5</title>\n<path fill=\"yellow\" stroke=\"black\" d=\"M272.9,-123C272.9,-123 195.9,-123 195.9,-123 189.9,-123 183.9,-117 183.9,-111 183.9,-111 183.9,-99 183.9,-99 183.9,-93 189.9,-87 195.9,-87 195.9,-87 272.9,-87 272.9,-87 278.9,-87 284.9,-93 284.9,-99 284.9,-99 284.9,-111 284.9,-111 284.9,-117 278.9,-123 272.9,-123\"/>\n<text text-anchor=\"middle\" x=\"234.4\" y=\"-101.3\" font-family=\"Times New Roman,serif\" font-size=\"14.00\">Median &gt; 154?</text>\n</g>\n<!-- 5&#45;&gt;3 -->\n<g id=\"edge3\" class=\"edge\">\n<title>5&#45;&gt;3</title>\n<path fill=\"none\" stroke=\"black\" d=\"M217.4,-86.8C204.62,-73.86 186.98,-56.02 173.01,-41.88\"/>\n<polygon fill=\"black\" stroke=\"black\" points=\"175.19,-39.11 165.68,-34.46 170.22,-44.03 175.19,-39.11\"/>\n<text text-anchor=\"middle\" x=\"212.9\" y=\"-57.8\" font-family=\"Times New Roman,serif\" font-size=\"14.00\">False</text>\n</g>\n<!-- 5&#45;&gt;4 -->\n<g id=\"edge4\" class=\"edge\">\n<title>5&#45;&gt;4</title>\n<path fill=\"none\" stroke=\"black\" d=\"M235.81,-86.8C236.77,-75.16 238.06,-59.55 239.15,-46.24\"/>\n<polygon fill=\"black\" stroke=\"black\" points=\"242.65,-46.43 239.98,-36.18 235.67,-45.85 242.65,-46.43\"/>\n<text text-anchor=\"middle\" x=\"251.4\" y=\"-57.8\" font-family=\"Times New Roman,serif\" font-size=\"14.00\">True</text>\n</g>\n<!-- 6 -->\n<g id=\"node7\" class=\"node\">\n<title>6</title>\n<ellipse fill=\"lightgrey\" stroke=\"black\" cx=\"346.4\" cy=\"-18\" rx=\"36.29\" ry=\"18\"/>\n<text text-anchor=\"middle\" x=\"346.4\" y=\"-14.3\" font-family=\"Times New Roman,serif\" font-size=\"14.00\">suspect</text>\n</g>\n<!-- 7 -->\n<g id=\"node8\" class=\"node\">\n<title>7</title>\n<ellipse fill=\"lightgrey\" stroke=\"black\" cx=\"437.4\" cy=\"-18\" rx=\"36.29\" ry=\"18\"/>\n<text text-anchor=\"middle\" x=\"437.4\" y=\"-14.3\" font-family=\"Times New Roman,serif\" font-size=\"14.00\">normal</text>\n</g>\n<!-- 8 -->\n<g id=\"node9\" class=\"node\">\n<title>8</title>\n<path fill=\"yellow\" stroke=\"black\" d=\"M391.9,-123C391.9,-123 314.9,-123 314.9,-123 308.9,-123 302.9,-117 302.9,-111 302.9,-111 302.9,-99 302.9,-99 302.9,-93 308.9,-87 314.9,-87 314.9,-87 391.9,-87 391.9,-87 397.9,-87 403.9,-93 403.9,-99 403.9,-99 403.9,-111 403.9,-111 403.9,-117 397.9,-123 391.9,-123\"/>\n<text text-anchor=\"middle\" x=\"353.4\" y=\"-101.3\" font-family=\"Times New Roman,serif\" font-size=\"14.00\">Median &gt; 165?</text>\n</g>\n<!-- 8&#45;&gt;6 -->\n<g id=\"edge5\" class=\"edge\">\n<title>8&#45;&gt;6</title>\n<path fill=\"none\" stroke=\"black\" d=\"M351.98,-86.8C351.02,-75.16 349.74,-59.55 348.64,-46.24\"/>\n<polygon fill=\"black\" stroke=\"black\" points=\"352.12,-45.85 347.81,-36.18 345.14,-46.43 352.12,-45.85\"/>\n<text text-anchor=\"middle\" x=\"364.9\" y=\"-57.8\" font-family=\"Times New Roman,serif\" font-size=\"14.00\">False</text>\n</g>\n<!-- 8&#45;&gt;7 -->\n<g id=\"edge6\" class=\"edge\">\n<title>8&#45;&gt;7</title>\n<path fill=\"none\" stroke=\"black\" d=\"M370.4,-86.8C383.18,-73.86 400.82,-56.02 414.79,-41.88\"/>\n<polygon fill=\"black\" stroke=\"black\" points=\"417.58,-44.03 422.12,-34.46 412.6,-39.11 417.58,-44.03\"/>\n<text text-anchor=\"middle\" x=\"414.4\" y=\"-57.8\" font-family=\"Times New Roman,serif\" font-size=\"14.00\">True</text>\n</g>\n<!-- 9 -->\n<g id=\"node10\" class=\"node\">\n<title>9</title>\n<path fill=\"yellow\" stroke=\"black\" d=\"M273.4,-210C273.4,-210 199.4,-210 199.4,-210 193.4,-210 187.4,-204 187.4,-198 187.4,-198 187.4,-186 187.4,-186 187.4,-180 193.4,-174 199.4,-174 199.4,-174 273.4,-174 273.4,-174 279.4,-174 285.4,-180 285.4,-186 285.4,-186 285.4,-198 285.4,-198 285.4,-204 279.4,-210 273.4,-210\"/>\n<text text-anchor=\"middle\" x=\"236.4\" y=\"-188.3\" font-family=\"Times New Roman,serif\" font-size=\"14.00\">ASTV &gt; 59.5?</text>\n</g>\n<!-- 9&#45;&gt;5 -->\n<g id=\"edge7\" class=\"edge\">\n<title>9&#45;&gt;5</title>\n<path fill=\"none\" stroke=\"black\" d=\"M235.99,-173.8C235.72,-162.16 235.35,-146.55 235.04,-133.24\"/>\n<polygon fill=\"black\" stroke=\"black\" points=\"238.54,-133.09 234.8,-123.18 231.54,-133.26 238.54,-133.09\"/>\n<text text-anchor=\"middle\" x=\"250.9\" y=\"-144.8\" font-family=\"Times New Roman,serif\" font-size=\"14.00\">False</text>\n</g>\n<!-- 9&#45;&gt;8 -->\n<g id=\"edge8\" class=\"edge\">\n<title>9&#45;&gt;8</title>\n<path fill=\"none\" stroke=\"black\" d=\"M260.07,-173.8C277.76,-160.95 302.11,-143.26 321.51,-129.17\"/>\n<polygon fill=\"black\" stroke=\"black\" points=\"323.72,-131.88 329.76,-123.18 319.61,-126.22 323.72,-131.88\"/>\n<text text-anchor=\"middle\" x=\"315.4\" y=\"-144.8\" font-family=\"Times New Roman,serif\" font-size=\"14.00\">True</text>\n</g>\n<!-- 10 -->\n<g id=\"node11\" class=\"node\">\n<title>10</title>\n<path fill=\"yellow\" stroke=\"black\" d=\"M236.4,-297C236.4,-297 180.4,-297 180.4,-297 174.4,-297 168.4,-291 168.4,-285 168.4,-285 168.4,-273 168.4,-273 168.4,-267 174.4,-261 180.4,-261 180.4,-261 236.4,-261 236.4,-261 242.4,-261 248.4,-267 248.4,-273 248.4,-273 248.4,-285 248.4,-285 248.4,-291 242.4,-297 236.4,-297\"/>\n<text text-anchor=\"middle\" x=\"208.4\" y=\"-275.3\" font-family=\"Times New Roman,serif\" font-size=\"14.00\">ALTV &gt; 7?</text>\n</g>\n<!-- 10&#45;&gt;2 -->\n<g id=\"edge9\" class=\"edge\">\n<title>10&#45;&gt;2</title>\n<path fill=\"none\" stroke=\"black\" d=\"M191.8,-260.8C179.8,-248.36 163.41,-231.36 150.04,-217.5\"/>\n<polygon fill=\"black\" stroke=\"black\" points=\"152.43,-214.94 142.97,-210.18 147.39,-219.8 152.43,-214.94\"/>\n<text text-anchor=\"middle\" x=\"186.9\" y=\"-231.8\" font-family=\"Times New Roman,serif\" font-size=\"14.00\">False</text>\n</g>\n<!-- 10&#45;&gt;9 -->\n<g id=\"edge10\" class=\"edge\">\n<title>10&#45;&gt;9</title>\n<path fill=\"none\" stroke=\"black\" d=\"M214.06,-260.8C217.93,-249.05 223.14,-233.24 227.55,-219.84\"/>\n<polygon fill=\"black\" stroke=\"black\" points=\"230.93,-220.77 230.74,-210.18 224.29,-218.58 230.93,-220.77\"/>\n<text text-anchor=\"middle\" x=\"237.4\" y=\"-231.8\" font-family=\"Times New Roman,serif\" font-size=\"14.00\">True</text>\n</g>\n<!-- 11 -->\n<g id=\"node12\" class=\"node\">\n<title>11</title>\n<ellipse fill=\"lightgrey\" stroke=\"black\" cx=\"314.4\" cy=\"-279\" rx=\"48.19\" ry=\"18\"/>\n<text text-anchor=\"middle\" x=\"314.4\" y=\"-275.3\" font-family=\"Times New Roman,serif\" font-size=\"14.00\">pathologic</text>\n</g>\n<!-- 12 -->\n<g id=\"node13\" class=\"node\">\n<title>12</title>\n<path fill=\"yellow\" stroke=\"black\" d=\"M351.4,-384C351.4,-384 277.4,-384 277.4,-384 271.4,-384 265.4,-378 265.4,-372 265.4,-372 265.4,-360 265.4,-360 265.4,-354 271.4,-348 277.4,-348 277.4,-348 351.4,-348 351.4,-348 357.4,-348 363.4,-354 363.4,-360 363.4,-360 363.4,-372 363.4,-372 363.4,-378 357.4,-384 351.4,-384\"/>\n<text text-anchor=\"middle\" x=\"314.4\" y=\"-362.3\" font-family=\"Times New Roman,serif\" font-size=\"14.00\">ASTV &gt; 79.5?</text>\n</g>\n<!-- 12&#45;&gt;10 -->\n<g id=\"edge11\" class=\"edge\">\n<title>12&#45;&gt;10</title>\n<path fill=\"none\" stroke=\"black\" d=\"M292.95,-347.8C277.14,-335.13 255.45,-317.73 238,-303.74\"/>\n<polygon fill=\"black\" stroke=\"black\" points=\"239.81,-300.7 229.82,-297.18 235.43,-306.16 239.81,-300.7\"/>\n<text text-anchor=\"middle\" x=\"282.9\" y=\"-318.8\" font-family=\"Times New Roman,serif\" font-size=\"14.00\">False</text>\n</g>\n<!-- 12&#45;&gt;11 -->\n<g id=\"edge12\" class=\"edge\">\n<title>12&#45;&gt;11</title>\n<path fill=\"none\" stroke=\"black\" d=\"M314.4,-347.8C314.4,-336.16 314.4,-320.55 314.4,-307.24\"/>\n<polygon fill=\"black\" stroke=\"black\" points=\"317.9,-307.18 314.4,-297.18 310.9,-307.18 317.9,-307.18\"/>\n<text text-anchor=\"middle\" x=\"327.4\" y=\"-318.8\" font-family=\"Times New Roman,serif\" font-size=\"14.00\">True</text>\n</g>\n<!-- 13 -->\n<g id=\"node14\" class=\"node\">\n<title>13</title>\n<ellipse fill=\"lightgrey\" stroke=\"black\" cx=\"416.4\" cy=\"-279\" rx=\"36.29\" ry=\"18\"/>\n<text text-anchor=\"middle\" x=\"416.4\" y=\"-275.3\" font-family=\"Times New Roman,serif\" font-size=\"14.00\">normal</text>\n</g>\n<!-- 14 -->\n<g id=\"node15\" class=\"node\">\n<title>14</title>\n<ellipse fill=\"lightgrey\" stroke=\"black\" cx=\"518.4\" cy=\"-279\" rx=\"48.19\" ry=\"18\"/>\n<text text-anchor=\"middle\" x=\"518.4\" y=\"-275.3\" font-family=\"Times New Roman,serif\" font-size=\"14.00\">pathologic</text>\n</g>\n<!-- 15 -->\n<g id=\"node16\" class=\"node\">\n<title>15</title>\n<path fill=\"yellow\" stroke=\"black\" d=\"M558.9,-384C558.9,-384 469.9,-384 469.9,-384 463.9,-384 457.9,-378 457.9,-372 457.9,-372 457.9,-360 457.9,-360 457.9,-354 463.9,-348 469.9,-348 469.9,-348 558.9,-348 558.9,-348 564.9,-348 570.9,-354 570.9,-360 570.9,-360 570.9,-372 570.9,-372 570.9,-378 564.9,-384 558.9,-384\"/>\n<text text-anchor=\"middle\" x=\"514.4\" y=\"-362.3\" font-family=\"Times New Roman,serif\" font-size=\"14.00\">Tendency &gt; &#45;0.5?</text>\n</g>\n<!-- 15&#45;&gt;13 -->\n<g id=\"edge13\" class=\"edge\">\n<title>15&#45;&gt;13</title>\n<path fill=\"none\" stroke=\"black\" d=\"M494.57,-347.8C479.18,-334.46 457.78,-315.89 441.25,-301.56\"/>\n<polygon fill=\"black\" stroke=\"black\" points=\"443.43,-298.81 433.58,-294.9 438.84,-304.1 443.43,-298.81\"/>\n<text text-anchor=\"middle\" x=\"485.9\" y=\"-318.8\" font-family=\"Times New Roman,serif\" font-size=\"14.00\">False</text>\n</g>\n<!-- 15&#45;&gt;14 -->\n<g id=\"edge14\" class=\"edge\">\n<title>15&#45;&gt;14</title>\n<path fill=\"none\" stroke=\"black\" d=\"M515.21,-347.8C515.75,-336.16 516.49,-320.55 517.12,-307.24\"/>\n<polygon fill=\"black\" stroke=\"black\" points=\"520.61,-307.33 517.59,-297.18 513.62,-307 520.61,-307.33\"/>\n<text text-anchor=\"middle\" x=\"530.4\" y=\"-318.8\" font-family=\"Times New Roman,serif\" font-size=\"14.00\">True</text>\n</g>\n<!-- 16 -->\n<g id=\"node17\" class=\"node\">\n<title>16</title>\n<path fill=\"yellow\" stroke=\"black\" d=\"M551.4,-471C551.4,-471 477.4,-471 477.4,-471 471.4,-471 465.4,-465 465.4,-459 465.4,-459 465.4,-447 465.4,-447 465.4,-441 471.4,-435 477.4,-435 477.4,-435 551.4,-435 551.4,-435 557.4,-435 563.4,-441 563.4,-447 563.4,-447 563.4,-459 563.4,-459 563.4,-465 557.4,-471 551.4,-471\"/>\n<text text-anchor=\"middle\" x=\"514.4\" y=\"-449.3\" font-family=\"Times New Roman,serif\" font-size=\"14.00\">ALTV &gt; 68.5?</text>\n</g>\n<!-- 16&#45;&gt;12 -->\n<g id=\"edge15\" class=\"edge\">\n<title>16&#45;&gt;12</title>\n<path fill=\"none\" stroke=\"black\" d=\"M473.92,-434.8C442.1,-421.27 397.64,-402.38 363.73,-387.97\"/>\n<polygon fill=\"black\" stroke=\"black\" points=\"365.04,-384.72 354.47,-384.03 362.3,-391.16 365.04,-384.72\"/>\n<text text-anchor=\"middle\" x=\"440.9\" y=\"-405.8\" font-family=\"Times New Roman,serif\" font-size=\"14.00\">False</text>\n</g>\n<!-- 16&#45;&gt;15 -->\n<g id=\"edge16\" class=\"edge\">\n<title>16&#45;&gt;15</title>\n<path fill=\"none\" stroke=\"black\" d=\"M514.4,-434.8C514.4,-423.16 514.4,-407.55 514.4,-394.24\"/>\n<polygon fill=\"black\" stroke=\"black\" points=\"517.9,-394.18 514.4,-384.18 510.9,-394.18 517.9,-394.18\"/>\n<text text-anchor=\"middle\" x=\"527.4\" y=\"-405.8\" font-family=\"Times New Roman,serif\" font-size=\"14.00\">True</text>\n</g>\n<!-- 17 -->\n<g id=\"node18\" class=\"node\">\n<title>17</title>\n<ellipse fill=\"lightgrey\" stroke=\"black\" cx=\"530.4\" cy=\"-192\" rx=\"36.29\" ry=\"18\"/>\n<text text-anchor=\"middle\" x=\"530.4\" y=\"-188.3\" font-family=\"Times New Roman,serif\" font-size=\"14.00\">suspect</text>\n</g>\n<!-- 18 -->\n<g id=\"node19\" class=\"node\">\n<title>18</title>\n<ellipse fill=\"lightgrey\" stroke=\"black\" cx=\"632.4\" cy=\"-192\" rx=\"48.19\" ry=\"18\"/>\n<text text-anchor=\"middle\" x=\"632.4\" y=\"-188.3\" font-family=\"Times New Roman,serif\" font-size=\"14.00\">pathologic</text>\n</g>\n<!-- 19 -->\n<g id=\"node20\" class=\"node\">\n<title>19</title>\n<path fill=\"yellow\" stroke=\"black\" d=\"M668.4,-297C668.4,-297 596.4,-297 596.4,-297 590.4,-297 584.4,-291 584.4,-285 584.4,-285 584.4,-273 584.4,-273 584.4,-267 590.4,-261 596.4,-261 596.4,-261 668.4,-261 668.4,-261 674.4,-261 680.4,-267 680.4,-273 680.4,-273 680.4,-285 680.4,-285 680.4,-291 674.4,-297 668.4,-297\"/>\n<text text-anchor=\"middle\" x=\"632.4\" y=\"-275.3\" font-family=\"Times New Roman,serif\" font-size=\"14.00\">Width &gt; 72.5?</text>\n</g>\n<!-- 19&#45;&gt;17 -->\n<g id=\"edge17\" class=\"edge\">\n<title>19&#45;&gt;17</title>\n<path fill=\"none\" stroke=\"black\" d=\"M611.76,-260.8C595.75,-247.46 573.46,-228.89 556.27,-214.56\"/>\n<polygon fill=\"black\" stroke=\"black\" points=\"558.2,-211.62 548.28,-207.9 553.72,-216.99 558.2,-211.62\"/>\n<text text-anchor=\"middle\" x=\"602.9\" y=\"-231.8\" font-family=\"Times New Roman,serif\" font-size=\"14.00\">False</text>\n</g>\n<!-- 19&#45;&gt;18 -->\n<g id=\"edge18\" class=\"edge\">\n<title>19&#45;&gt;18</title>\n<path fill=\"none\" stroke=\"black\" d=\"M632.4,-260.8C632.4,-249.16 632.4,-233.55 632.4,-220.24\"/>\n<polygon fill=\"black\" stroke=\"black\" points=\"635.9,-220.18 632.4,-210.18 628.9,-220.18 635.9,-220.18\"/>\n<text text-anchor=\"middle\" x=\"645.4\" y=\"-231.8\" font-family=\"Times New Roman,serif\" font-size=\"14.00\">True</text>\n</g>\n<!-- 20 -->\n<g id=\"node21\" class=\"node\">\n<title>20</title>\n<ellipse fill=\"lightgrey\" stroke=\"black\" cx=\"746.4\" cy=\"-192\" rx=\"48.19\" ry=\"18\"/>\n<text text-anchor=\"middle\" x=\"746.4\" y=\"-188.3\" font-family=\"Times New Roman,serif\" font-size=\"14.00\">pathologic</text>\n</g>\n<!-- 21 -->\n<g id=\"node22\" class=\"node\">\n<title>21</title>\n<ellipse fill=\"lightgrey\" stroke=\"black\" cx=\"848.4\" cy=\"-192\" rx=\"36.29\" ry=\"18\"/>\n<text text-anchor=\"middle\" x=\"848.4\" y=\"-188.3\" font-family=\"Times New Roman,serif\" font-size=\"14.00\">normal</text>\n</g>\n<!-- 22 -->\n<g id=\"node23\" class=\"node\">\n<title>22</title>\n<path fill=\"yellow\" stroke=\"black\" d=\"M796.4,-297C796.4,-297 710.4,-297 710.4,-297 704.4,-297 698.4,-291 698.4,-285 698.4,-285 698.4,-273 698.4,-273 698.4,-267 704.4,-261 710.4,-261 710.4,-261 796.4,-261 796.4,-261 802.4,-261 808.4,-267 808.4,-273 808.4,-273 808.4,-285 808.4,-285 808.4,-291 802.4,-297 796.4,-297\"/>\n<text text-anchor=\"middle\" x=\"753.4\" y=\"-275.3\" font-family=\"Times New Roman,serif\" font-size=\"14.00\">Variance &gt; 23.5?</text>\n</g>\n<!-- 22&#45;&gt;20 -->\n<g id=\"edge19\" class=\"edge\">\n<title>22&#45;&gt;20</title>\n<path fill=\"none\" stroke=\"black\" d=\"M751.98,-260.8C751.02,-249.16 749.74,-233.55 748.64,-220.24\"/>\n<polygon fill=\"black\" stroke=\"black\" points=\"752.12,-219.85 747.81,-210.18 745.14,-220.43 752.12,-219.85\"/>\n<text text-anchor=\"middle\" x=\"764.9\" y=\"-231.8\" font-family=\"Times New Roman,serif\" font-size=\"14.00\">False</text>\n</g>\n<!-- 22&#45;&gt;21 -->\n<g id=\"edge20\" class=\"edge\">\n<title>22&#45;&gt;21</title>\n<path fill=\"none\" stroke=\"black\" d=\"M772.62,-260.8C787.3,-247.66 807.65,-229.46 823.57,-215.22\"/>\n<polygon fill=\"black\" stroke=\"black\" points=\"826.31,-217.46 831.43,-208.18 821.64,-212.24 826.31,-217.46\"/>\n<text text-anchor=\"middle\" x=\"820.4\" y=\"-231.8\" font-family=\"Times New Roman,serif\" font-size=\"14.00\">True</text>\n</g>\n<!-- 23 -->\n<g id=\"node24\" class=\"node\">\n<title>23</title>\n<path fill=\"yellow\" stroke=\"black\" d=\"M729.9,-384C729.9,-384 658.9,-384 658.9,-384 652.9,-384 646.9,-378 646.9,-372 646.9,-372 646.9,-360 646.9,-360 646.9,-354 652.9,-348 658.9,-348 658.9,-348 729.9,-348 729.9,-348 735.9,-348 741.9,-354 741.9,-360 741.9,-360 741.9,-372 741.9,-372 741.9,-378 735.9,-384 729.9,-384\"/>\n<text text-anchor=\"middle\" x=\"694.4\" y=\"-362.3\" font-family=\"Times New Roman,serif\" font-size=\"14.00\">Max &gt; 220.5?</text>\n</g>\n<!-- 23&#45;&gt;19 -->\n<g id=\"edge21\" class=\"edge\">\n<title>23&#45;&gt;19</title>\n<path fill=\"none\" stroke=\"black\" d=\"M681.85,-347.8C672.94,-335.59 660.84,-318.99 650.83,-305.28\"/>\n<polygon fill=\"black\" stroke=\"black\" points=\"653.65,-303.19 644.92,-297.18 647.99,-307.32 653.65,-303.19\"/>\n<text text-anchor=\"middle\" x=\"681.9\" y=\"-318.8\" font-family=\"Times New Roman,serif\" font-size=\"14.00\">False</text>\n</g>\n<!-- 23&#45;&gt;22 -->\n<g id=\"edge22\" class=\"edge\">\n<title>23&#45;&gt;22</title>\n<path fill=\"none\" stroke=\"black\" d=\"M706.34,-347.8C714.73,-335.7 726.11,-319.3 735.58,-305.67\"/>\n<polygon fill=\"black\" stroke=\"black\" points=\"738.65,-307.39 741.47,-297.18 732.9,-303.39 738.65,-307.39\"/>\n<text text-anchor=\"middle\" x=\"741.4\" y=\"-318.8\" font-family=\"Times New Roman,serif\" font-size=\"14.00\">True</text>\n</g>\n<!-- 24 -->\n<g id=\"node25\" class=\"node\">\n<title>24</title>\n<ellipse fill=\"lightgrey\" stroke=\"black\" cx=\"858.4\" cy=\"-105\" rx=\"48.19\" ry=\"18\"/>\n<text text-anchor=\"middle\" x=\"858.4\" y=\"-101.3\" font-family=\"Times New Roman,serif\" font-size=\"14.00\">pathologic</text>\n</g>\n<!-- 25 -->\n<g id=\"node26\" class=\"node\">\n<title>25</title>\n<ellipse fill=\"lightgrey\" stroke=\"black\" cx=\"960.4\" cy=\"-105\" rx=\"36.29\" ry=\"18\"/>\n<text text-anchor=\"middle\" x=\"960.4\" y=\"-101.3\" font-family=\"Times New Roman,serif\" font-size=\"14.00\">suspect</text>\n</g>\n<!-- 26 -->\n<g id=\"node27\" class=\"node\">\n<title>26</title>\n<path fill=\"yellow\" stroke=\"black\" d=\"M991.9,-210C991.9,-210 914.9,-210 914.9,-210 908.9,-210 902.9,-204 902.9,-198 902.9,-198 902.9,-186 902.9,-186 902.9,-180 908.9,-174 914.9,-174 914.9,-174 991.9,-174 991.9,-174 997.9,-174 1003.9,-180 1003.9,-186 1003.9,-186 1003.9,-198 1003.9,-198 1003.9,-204 997.9,-210 991.9,-210\"/>\n<text text-anchor=\"middle\" x=\"953.4\" y=\"-188.3\" font-family=\"Times New Roman,serif\" font-size=\"14.00\">MLTV &gt; 3.95?</text>\n</g>\n<!-- 26&#45;&gt;24 -->\n<g id=\"edge23\" class=\"edge\">\n<title>26&#45;&gt;24</title>\n<path fill=\"none\" stroke=\"black\" d=\"M934.17,-173.8C919.77,-160.91 899.91,-143.14 884.13,-129.03\"/>\n<polygon fill=\"black\" stroke=\"black\" points=\"886.09,-126.08 876.31,-122.03 881.43,-131.3 886.09,-126.08\"/>\n<text text-anchor=\"middle\" x=\"926.9\" y=\"-144.8\" font-family=\"Times New Roman,serif\" font-size=\"14.00\">False</text>\n</g>\n<!-- 26&#45;&gt;25 -->\n<g id=\"edge24\" class=\"edge\">\n<title>26&#45;&gt;25</title>\n<path fill=\"none\" stroke=\"black\" d=\"M954.81,-173.8C955.77,-162.16 957.06,-146.55 958.15,-133.24\"/>\n<polygon fill=\"black\" stroke=\"black\" points=\"961.65,-133.43 958.98,-123.18 954.67,-132.85 961.65,-133.43\"/>\n<text text-anchor=\"middle\" x=\"970.4\" y=\"-144.8\" font-family=\"Times New Roman,serif\" font-size=\"14.00\">True</text>\n</g>\n<!-- 27 -->\n<g id=\"node28\" class=\"node\">\n<title>27</title>\n<ellipse fill=\"lightgrey\" stroke=\"black\" cx=\"1013.4\" cy=\"-18\" rx=\"36.29\" ry=\"18\"/>\n<text text-anchor=\"middle\" x=\"1013.4\" y=\"-14.3\" font-family=\"Times New Roman,serif\" font-size=\"14.00\">normal</text>\n</g>\n<!-- 28 -->\n<g id=\"node29\" class=\"node\">\n<title>28</title>\n<ellipse fill=\"lightgrey\" stroke=\"black\" cx=\"1115.4\" cy=\"-18\" rx=\"48.19\" ry=\"18\"/>\n<text text-anchor=\"middle\" x=\"1115.4\" y=\"-14.3\" font-family=\"Times New Roman,serif\" font-size=\"14.00\">pathologic</text>\n</g>\n<!-- 29 -->\n<g id=\"node30\" class=\"node\">\n<title>29</title>\n<path fill=\"yellow\" stroke=\"black\" d=\"M1088.9,-123C1088.9,-123 1039.9,-123 1039.9,-123 1033.9,-123 1027.9,-117 1027.9,-111 1027.9,-111 1027.9,-99 1027.9,-99 1027.9,-93 1033.9,-87 1039.9,-87 1039.9,-87 1088.9,-87 1088.9,-87 1094.9,-87 1100.9,-93 1100.9,-99 1100.9,-99 1100.9,-111 1100.9,-111 1100.9,-117 1094.9,-123 1088.9,-123\"/>\n<text text-anchor=\"middle\" x=\"1064.4\" y=\"-101.3\" font-family=\"Times New Roman,serif\" font-size=\"14.00\">DS &gt; 0.5?</text>\n</g>\n<!-- 29&#45;&gt;27 -->\n<g id=\"edge25\" class=\"edge\">\n<title>29&#45;&gt;27</title>\n<path fill=\"none\" stroke=\"black\" d=\"M1054.08,-86.8C1046.79,-74.66 1036.91,-58.19 1028.71,-44.52\"/>\n<polygon fill=\"black\" stroke=\"black\" points=\"1031.5,-42.37 1023.35,-35.6 1025.5,-45.97 1031.5,-42.37\"/>\n<text text-anchor=\"middle\" x=\"1056.9\" y=\"-57.8\" font-family=\"Times New Roman,serif\" font-size=\"14.00\">False</text>\n</g>\n<!-- 29&#45;&gt;28 -->\n<g id=\"edge26\" class=\"edge\">\n<title>29&#45;&gt;28</title>\n<path fill=\"none\" stroke=\"black\" d=\"M1074.72,-86.8C1081.95,-74.74 1091.75,-58.4 1099.92,-44.79\"/>\n<polygon fill=\"black\" stroke=\"black\" points=\"1103.12,-46.26 1105.27,-35.89 1097.12,-42.66 1103.12,-46.26\"/>\n<text text-anchor=\"middle\" x=\"1106.4\" y=\"-57.8\" font-family=\"Times New Roman,serif\" font-size=\"14.00\">True</text>\n</g>\n<!-- 30 -->\n<g id=\"node31\" class=\"node\">\n<title>30</title>\n<ellipse fill=\"lightgrey\" stroke=\"black\" cx=\"1167.4\" cy=\"-105\" rx=\"48.19\" ry=\"18\"/>\n<text text-anchor=\"middle\" x=\"1167.4\" y=\"-101.3\" font-family=\"Times New Roman,serif\" font-size=\"14.00\">pathologic</text>\n</g>\n<!-- 31 -->\n<g id=\"node32\" class=\"node\">\n<title>31</title>\n<path fill=\"yellow\" stroke=\"black\" d=\"M1108.4,-210C1108.4,-210 1034.4,-210 1034.4,-210 1028.4,-210 1022.4,-204 1022.4,-198 1022.4,-198 1022.4,-186 1022.4,-186 1022.4,-180 1028.4,-174 1034.4,-174 1034.4,-174 1108.4,-174 1108.4,-174 1114.4,-174 1120.4,-180 1120.4,-186 1120.4,-186 1120.4,-198 1120.4,-198 1120.4,-204 1114.4,-210 1108.4,-210\"/>\n<text text-anchor=\"middle\" x=\"1071.4\" y=\"-188.3\" font-family=\"Times New Roman,serif\" font-size=\"14.00\">ASTV &gt; 79.5?</text>\n</g>\n<!-- 31&#45;&gt;29 -->\n<g id=\"edge27\" class=\"edge\">\n<title>31&#45;&gt;29</title>\n<path fill=\"none\" stroke=\"black\" d=\"M1069.98,-173.8C1069.02,-162.16 1067.74,-146.55 1066.64,-133.24\"/>\n<polygon fill=\"black\" stroke=\"black\" points=\"1070.12,-132.85 1065.81,-123.18 1063.14,-133.43 1070.12,-132.85\"/>\n<text text-anchor=\"middle\" x=\"1082.9\" y=\"-144.8\" font-family=\"Times New Roman,serif\" font-size=\"14.00\">False</text>\n</g>\n<!-- 31&#45;&gt;30 -->\n<g id=\"edge28\" class=\"edge\">\n<title>31&#45;&gt;30</title>\n<path fill=\"none\" stroke=\"black\" d=\"M1090.82,-173.8C1105.47,-160.83 1125.71,-142.91 1141.7,-128.76\"/>\n<polygon fill=\"black\" stroke=\"black\" points=\"1144.45,-130.99 1149.62,-121.74 1139.81,-125.75 1144.45,-130.99\"/>\n<text text-anchor=\"middle\" x=\"1138.4\" y=\"-144.8\" font-family=\"Times New Roman,serif\" font-size=\"14.00\">True</text>\n</g>\n<!-- 32 -->\n<g id=\"node33\" class=\"node\">\n<title>32</title>\n<path fill=\"yellow\" stroke=\"black\" d=\"M1038.9,-297C1038.9,-297 983.9,-297 983.9,-297 977.9,-297 971.9,-291 971.9,-285 971.9,-285 971.9,-273 971.9,-273 971.9,-267 977.9,-261 983.9,-261 983.9,-261 1038.9,-261 1038.9,-261 1044.9,-261 1050.9,-267 1050.9,-273 1050.9,-273 1050.9,-285 1050.9,-285 1050.9,-291 1044.9,-297 1038.9,-297\"/>\n<text text-anchor=\"middle\" x=\"1011.4\" y=\"-275.3\" font-family=\"Times New Roman,serif\" font-size=\"14.00\">Width &gt; 9?</text>\n</g>\n<!-- 32&#45;&gt;26 -->\n<g id=\"edge29\" class=\"edge\">\n<title>32&#45;&gt;26</title>\n<path fill=\"none\" stroke=\"black\" d=\"M999.66,-260.8C991.41,-248.7 980.22,-232.3 970.91,-218.67\"/>\n<polygon fill=\"black\" stroke=\"black\" points=\"973.64,-216.46 965.12,-210.18 967.86,-220.41 973.64,-216.46\"/>\n<text text-anchor=\"middle\" x=\"1000.9\" y=\"-231.8\" font-family=\"Times New Roman,serif\" font-size=\"14.00\">False</text>\n</g>\n<!-- 32&#45;&gt;31 -->\n<g id=\"edge30\" class=\"edge\">\n<title>32&#45;&gt;31</title>\n<path fill=\"none\" stroke=\"black\" d=\"M1023.54,-260.8C1032.08,-248.7 1043.65,-232.3 1053.28,-218.67\"/>\n<polygon fill=\"black\" stroke=\"black\" points=\"1056.37,-220.36 1059.27,-210.18 1050.65,-216.33 1056.37,-220.36\"/>\n<text text-anchor=\"middle\" x=\"1058.4\" y=\"-231.8\" font-family=\"Times New Roman,serif\" font-size=\"14.00\">True</text>\n</g>\n<!-- 33 -->\n<g id=\"node34\" class=\"node\">\n<title>33</title>\n<ellipse fill=\"lightgrey\" stroke=\"black\" cx=\"1186.4\" cy=\"-192\" rx=\"48.19\" ry=\"18\"/>\n<text text-anchor=\"middle\" x=\"1186.4\" y=\"-188.3\" font-family=\"Times New Roman,serif\" font-size=\"14.00\">pathologic</text>\n</g>\n<!-- 34 -->\n<g id=\"node35\" class=\"node\">\n<title>34</title>\n<ellipse fill=\"lightgrey\" stroke=\"black\" cx=\"1295.4\" cy=\"-105\" rx=\"48.19\" ry=\"18\"/>\n<text text-anchor=\"middle\" x=\"1295.4\" y=\"-101.3\" font-family=\"Times New Roman,serif\" font-size=\"14.00\">pathologic</text>\n</g>\n<!-- 35 -->\n<g id=\"node36\" class=\"node\">\n<title>35</title>\n<ellipse fill=\"lightgrey\" stroke=\"black\" cx=\"1397.4\" cy=\"-105\" rx=\"36.29\" ry=\"18\"/>\n<text text-anchor=\"middle\" x=\"1397.4\" y=\"-101.3\" font-family=\"Times New Roman,serif\" font-size=\"14.00\">suspect</text>\n</g>\n<!-- 36 -->\n<g id=\"node37\" class=\"node\">\n<title>36</title>\n<path fill=\"yellow\" stroke=\"black\" d=\"M1339.9,-210C1339.9,-210 1264.9,-210 1264.9,-210 1258.9,-210 1252.9,-204 1252.9,-198 1252.9,-198 1252.9,-186 1252.9,-186 1252.9,-180 1258.9,-174 1264.9,-174 1264.9,-174 1339.9,-174 1339.9,-174 1345.9,-174 1351.9,-180 1351.9,-186 1351.9,-186 1351.9,-198 1351.9,-198 1351.9,-204 1345.9,-210 1339.9,-210\"/>\n<text text-anchor=\"middle\" x=\"1302.4\" y=\"-188.3\" font-family=\"Times New Roman,serif\" font-size=\"14.00\">Variance &gt; 43?</text>\n</g>\n<!-- 36&#45;&gt;34 -->\n<g id=\"edge31\" class=\"edge\">\n<title>36&#45;&gt;34</title>\n<path fill=\"none\" stroke=\"black\" d=\"M1300.98,-173.8C1300.02,-162.16 1298.74,-146.55 1297.64,-133.24\"/>\n<polygon fill=\"black\" stroke=\"black\" points=\"1301.12,-132.85 1296.81,-123.18 1294.14,-133.43 1301.12,-132.85\"/>\n<text text-anchor=\"middle\" x=\"1313.9\" y=\"-144.8\" font-family=\"Times New Roman,serif\" font-size=\"14.00\">False</text>\n</g>\n<!-- 36&#45;&gt;35 -->\n<g id=\"edge32\" class=\"edge\">\n<title>36&#45;&gt;35</title>\n<path fill=\"none\" stroke=\"black\" d=\"M1321.62,-173.8C1336.3,-160.66 1356.65,-142.46 1372.57,-128.22\"/>\n<polygon fill=\"black\" stroke=\"black\" points=\"1375.31,-130.46 1380.43,-121.18 1370.64,-125.24 1375.31,-130.46\"/>\n<text text-anchor=\"middle\" x=\"1368.4\" y=\"-144.8\" font-family=\"Times New Roman,serif\" font-size=\"14.00\">True</text>\n</g>\n<!-- 37 -->\n<g id=\"node38\" class=\"node\">\n<title>37</title>\n<path fill=\"yellow\" stroke=\"black\" d=\"M1229.9,-297C1229.9,-297 1142.9,-297 1142.9,-297 1136.9,-297 1130.9,-291 1130.9,-285 1130.9,-285 1130.9,-273 1130.9,-273 1130.9,-267 1136.9,-261 1142.9,-261 1142.9,-261 1229.9,-261 1229.9,-261 1235.9,-261 1241.9,-267 1241.9,-273 1241.9,-273 1241.9,-285 1241.9,-285 1241.9,-291 1235.9,-297 1229.9,-297\"/>\n<text text-anchor=\"middle\" x=\"1186.4\" y=\"-275.3\" font-family=\"Times New Roman,serif\" font-size=\"14.00\">Median &gt; 128.5?</text>\n</g>\n<!-- 37&#45;&gt;33 -->\n<g id=\"edge33\" class=\"edge\">\n<title>37&#45;&gt;33</title>\n<path fill=\"none\" stroke=\"black\" d=\"M1186.4,-260.8C1186.4,-249.16 1186.4,-233.55 1186.4,-220.24\"/>\n<polygon fill=\"black\" stroke=\"black\" points=\"1189.9,-220.18 1186.4,-210.18 1182.9,-220.18 1189.9,-220.18\"/>\n<text text-anchor=\"middle\" x=\"1200.9\" y=\"-231.8\" font-family=\"Times New Roman,serif\" font-size=\"14.00\">False</text>\n</g>\n<!-- 37&#45;&gt;36 -->\n<g id=\"edge34\" class=\"edge\">\n<title>37&#45;&gt;36</title>\n<path fill=\"none\" stroke=\"black\" d=\"M1209.87,-260.8C1227.4,-247.95 1251.55,-230.26 1270.78,-216.17\"/>\n<polygon fill=\"black\" stroke=\"black\" points=\"1272.96,-218.91 1278.96,-210.18 1268.82,-213.26 1272.96,-218.91\"/>\n<text text-anchor=\"middle\" x=\"1264.4\" y=\"-231.8\" font-family=\"Times New Roman,serif\" font-size=\"14.00\">True</text>\n</g>\n<!-- 38 -->\n<g id=\"node39\" class=\"node\">\n<title>38</title>\n<path fill=\"yellow\" stroke=\"black\" d=\"M1035.9,-384C1035.9,-384 986.9,-384 986.9,-384 980.9,-384 974.9,-378 974.9,-372 974.9,-372 974.9,-360 974.9,-360 974.9,-354 980.9,-348 986.9,-348 986.9,-348 1035.9,-348 1035.9,-348 1041.9,-348 1047.9,-354 1047.9,-360 1047.9,-360 1047.9,-372 1047.9,-372 1047.9,-378 1041.9,-384 1035.9,-384\"/>\n<text text-anchor=\"middle\" x=\"1011.4\" y=\"-362.3\" font-family=\"Times New Roman,serif\" font-size=\"14.00\">DP &gt; 1.5?</text>\n</g>\n<!-- 38&#45;&gt;32 -->\n<g id=\"edge35\" class=\"edge\">\n<title>38&#45;&gt;32</title>\n<path fill=\"none\" stroke=\"black\" d=\"M1011.4,-347.8C1011.4,-336.16 1011.4,-320.55 1011.4,-307.24\"/>\n<polygon fill=\"black\" stroke=\"black\" points=\"1014.9,-307.18 1011.4,-297.18 1007.9,-307.18 1014.9,-307.18\"/>\n<text text-anchor=\"middle\" x=\"1025.9\" y=\"-318.8\" font-family=\"Times New Roman,serif\" font-size=\"14.00\">False</text>\n</g>\n<!-- 38&#45;&gt;37 -->\n<g id=\"edge36\" class=\"edge\">\n<title>38&#45;&gt;37</title>\n<path fill=\"none\" stroke=\"black\" d=\"M1046.81,-347.8C1074.3,-334.45 1112.57,-315.86 1142.08,-301.52\"/>\n<polygon fill=\"black\" stroke=\"black\" points=\"1143.87,-304.55 1151.33,-297.03 1140.81,-298.25 1143.87,-304.55\"/>\n<text text-anchor=\"middle\" x=\"1122.4\" y=\"-318.8\" font-family=\"Times New Roman,serif\" font-size=\"14.00\">True</text>\n</g>\n<!-- 39 -->\n<g id=\"node40\" class=\"node\">\n<title>39</title>\n<path fill=\"yellow\" stroke=\"black\" d=\"M732.9,-471C732.9,-471 655.9,-471 655.9,-471 649.9,-471 643.9,-465 643.9,-459 643.9,-459 643.9,-447 643.9,-447 643.9,-441 649.9,-435 655.9,-435 655.9,-435 732.9,-435 732.9,-435 738.9,-435 744.9,-441 744.9,-447 744.9,-447 744.9,-459 744.9,-459 744.9,-465 738.9,-471 732.9,-471\"/>\n<text text-anchor=\"middle\" x=\"694.4\" y=\"-449.3\" font-family=\"Times New Roman,serif\" font-size=\"14.00\">Mean &gt; 107.5?</text>\n</g>\n<!-- 39&#45;&gt;23 -->\n<g id=\"edge37\" class=\"edge\">\n<title>39&#45;&gt;23</title>\n<path fill=\"none\" stroke=\"black\" d=\"M694.4,-434.8C694.4,-423.16 694.4,-407.55 694.4,-394.24\"/>\n<polygon fill=\"black\" stroke=\"black\" points=\"697.9,-394.18 694.4,-384.18 690.9,-394.18 697.9,-394.18\"/>\n<text text-anchor=\"middle\" x=\"708.9\" y=\"-405.8\" font-family=\"Times New Roman,serif\" font-size=\"14.00\">False</text>\n</g>\n<!-- 39&#45;&gt;38 -->\n<g id=\"edge38\" class=\"edge\">\n<title>39&#45;&gt;38</title>\n<path fill=\"none\" stroke=\"black\" d=\"M744.98,-438.44C805.62,-422.18 906.4,-395.15 965.09,-379.42\"/>\n<polygon fill=\"black\" stroke=\"black\" points=\"966.08,-382.78 974.83,-376.8 964.27,-376.01 966.08,-382.78\"/>\n<text text-anchor=\"middle\" x=\"885.4\" y=\"-405.8\" font-family=\"Times New Roman,serif\" font-size=\"14.00\">True</text>\n</g>\n<!-- 40 -->\n<g id=\"node41\" class=\"node\">\n<title>40</title>\n<path fill=\"yellow\" stroke=\"black\" d=\"M613.9,-558C613.9,-558 536.9,-558 536.9,-558 530.9,-558 524.9,-552 524.9,-546 524.9,-546 524.9,-534 524.9,-534 524.9,-528 530.9,-522 536.9,-522 536.9,-522 613.9,-522 613.9,-522 619.9,-522 625.9,-528 625.9,-534 625.9,-534 625.9,-546 625.9,-546 625.9,-552 619.9,-558 613.9,-558\"/>\n<text text-anchor=\"middle\" x=\"575.4\" y=\"-536.3\" font-family=\"Times New Roman,serif\" font-size=\"14.00\">MSTV &gt; 0.45?</text>\n</g>\n<!-- 40&#45;&gt;16 -->\n<g id=\"edge39\" class=\"edge\">\n<title>40&#45;&gt;16</title>\n<path fill=\"none\" stroke=\"black\" d=\"M563.05,-521.8C554.37,-509.7 542.6,-493.3 532.82,-479.67\"/>\n<polygon fill=\"black\" stroke=\"black\" points=\"535.4,-477.26 526.72,-471.18 529.71,-481.34 535.4,-477.26\"/>\n<text text-anchor=\"middle\" x=\"563.9\" y=\"-492.8\" font-family=\"Times New Roman,serif\" font-size=\"14.00\">False</text>\n</g>\n<!-- 40&#45;&gt;39 -->\n<g id=\"edge40\" class=\"edge\">\n<title>40&#45;&gt;39</title>\n<path fill=\"none\" stroke=\"black\" d=\"M599.48,-521.8C617.46,-508.95 642.24,-491.26 661.96,-477.17\"/>\n<polygon fill=\"black\" stroke=\"black\" points=\"664.25,-479.84 670.35,-471.18 660.18,-474.14 664.25,-479.84\"/>\n<text text-anchor=\"middle\" x=\"655.4\" y=\"-492.8\" font-family=\"Times New Roman,serif\" font-size=\"14.00\">True</text>\n</g>\n</g>\n</svg>\n",
      "text/plain": [
       "<graphviz.graphs.Digraph at 0x1b80e8b03b0>"
      ]
     },
     "execution_count": 14,
     "metadata": {},
     "output_type": "execute_result"
    }
   ],
   "execution_count": 14
  },
  {
   "metadata": {},
   "cell_type": "markdown",
   "source": [
    "## Task 3: A regression example: predicting apartment prices\n",
    "\n",
    "#### Step 1: Data Munging\n",
    "\n",
    "Read the `sberbank.csv` file, select specific columns, shuffle the data, seperate input matrix `X` and ouput vector `y`, and then do the test-training split.\n",
    "\n",
    "The following code is quoted from [the instructions](https://www.cse.chalmers.se/~richajo/dit866/assignments/a1/assignment1.html)."
   ],
   "id": "f19c4076833f374b"
  },
  {
   "metadata": {
    "ExecuteTime": {
     "end_time": "2025-01-26T17:27:37.311053Z",
     "start_time": "2025-01-26T17:27:36.841215Z"
    }
   },
   "cell_type": "code",
   "source": [
    "import pandas as pd\n",
    "import numpy as np\n",
    "from sklearn.model_selection import train_test_split\n",
    "\n",
    "# Read the CSV file using Pandas.\n",
    "alldata = pd.read_csv(\"sberbank.csv\")\n",
    "\n",
    "# Convert the timestamp string to an integer representing the year.\n",
    "def get_year(timestamp):\n",
    "    return int(timestamp[:4])\n",
    "alldata['year'] = alldata.timestamp.apply(get_year)\n",
    "\n",
    "# Select the 7 input columns and the output column.\n",
    "selected_columns = ['price_doc', 'year', 'full_sq', 'life_sq', 'floor', 'num_room', 'kitch_sq', 'full_all']\n",
    "alldata = alldata[selected_columns]\n",
    "alldata = alldata.dropna()\n",
    "\n",
    "# Shuffle.\n",
    "alldata_shuffled = alldata.sample(frac=1.0, random_state=0)\n",
    "\n",
    "# Separate the input and output columns.\n",
    "X = alldata_shuffled.drop('price_doc', axis=1)\n",
    "# For the output, we'll use the log of the sales price.\n",
    "Y = alldata_shuffled['price_doc'].apply(np.log)\n",
    "\n",
    "# Split into training and test sets.\n",
    "Xtrain, Xtest, Ytrain, Ytest = train_test_split(X, Y, test_size=0.2, random_state=0)"
   ],
   "id": "2cde0c594ecc2e5f",
   "outputs": [],
   "execution_count": 15
  },
  {
   "metadata": {},
   "cell_type": "markdown",
   "source": [
    "#### Step 2: Train and evaluate different regression models\n",
    "\n",
    "First, we perform cross validtion on the training set for all the regressors, and select the model with highest score to train on the whole training set and evaluate on the held-out test set.\n",
    "\n",
    "The models used are shown in the code."
   ],
   "id": "2cf4b5c76cf2e14d"
  },
  {
   "metadata": {
    "ExecuteTime": {
     "end_time": "2025-01-26T17:27:53.041570Z",
     "start_time": "2025-01-26T17:27:37.328208Z"
    }
   },
   "cell_type": "code",
   "source": [
    "from sklearn.dummy import DummyRegressor\n",
    "from sklearn.linear_model import LinearRegression, Ridge, Lasso\n",
    "from sklearn.ensemble import RandomForestRegressor, GradientBoostingRegressor\n",
    "from sklearn.neural_network import MLPRegressor\n",
    "from sklearn.tree import DecisionTreeRegressor\n",
    "from sklearn.model_selection import cross_val_score\n",
    "from sklearn.metrics import mean_squared_error\n",
    "\n",
    "models = {\n",
    "    \"DummyRegressor\": DummyRegressor(),\n",
    "    \"LinearRegression\": LinearRegression(),\n",
    "    \"Lasso\": Lasso(alpha=1.0, max_iter=1000, tol=0.0001, random_state=114514),\n",
    "    \"Ridge\": Ridge(\n",
    "            alpha=1.0, fit_intercept=True, solver='auto',\n",
    "            max_iter=None, tol=0.001, random_state=42\n",
    "        ),\n",
    "    \"RandomForestRegressor\": RandomForestRegressor(\n",
    "            n_estimators=100,\n",
    "            max_depth=None, min_samples_split=2, min_samples_leaf=1,\n",
    "            random_state=42, max_features= 1 / 3\n",
    "        ),\n",
    "    \"GradientBoostingRegressor\": GradientBoostingRegressor(\n",
    "            n_estimators=100, learning_rate=0.1, max_depth=3,\n",
    "            min_samples_split=2, min_samples_leaf=1, random_state=42\n",
    "        ),\n",
    "    \"DecisionTreeRegressor\": DecisionTreeRegressor(\n",
    "            max_depth=None, min_samples_split=2,\n",
    "            min_samples_leaf=1, random_state=42, ccp_alpha=0.01\n",
    "        ),\n",
    "    \"MLPRegressor\": MLPRegressor(\n",
    "            random_state=198\n",
    "        ),\n",
    "}\n",
    "\n",
    "#Preform cross validation for all models on the training set\n",
    "#Print their scores\n",
    "for name, regr_model in models.items():\n",
    "    score = cross_val_score(regr_model, Xtrain, Ytrain, scoring=\"neg_mean_squared_error\").mean()\n",
    "    print(f\"Model: {name}; Score: {score}\")"
   ],
   "id": "720abe2a82b2822f",
   "outputs": [
    {
     "name": "stdout",
     "output_type": "stream",
     "text": [
      "Model: DummyRegressor; Score: -0.38925247260237567\n",
      "Model: LinearRegression; Score: -0.3013986588767271\n",
      "Model: Lasso; Score: -0.30104706717488716\n",
      "Model: Ridge; Score: -0.3013978423217978\n",
      "Model: RandomForestRegressor; Score: -0.28000516956579297\n",
      "Model: GradientBoostingRegressor; Score: -0.2645272118267597\n",
      "Model: DecisionTreeRegressor; Score: -0.3115473038894633\n",
      "Model: MLPRegressor; Score: -11.238362491974518\n"
     ]
    }
   ],
   "execution_count": 16
  },
  {
   "metadata": {},
   "cell_type": "markdown",
   "source": [
    "Clearly, `GradientBoostingRegressor` achieved highest score in cross validation.\n",
    "\n",
    "Finally, train it on the full training set and evaluate on the held-out test set:"
   ],
   "id": "cdf8b10978c4a46"
  },
  {
   "metadata": {
    "ExecuteTime": {
     "end_time": "2025-01-26T17:27:53.635676Z",
     "start_time": "2025-01-26T17:27:53.060256Z"
    }
   },
   "cell_type": "code",
   "source": [
    "regr_model = models[\"GradientBoostingRegressor\"]\n",
    "regr_model.fit(Xtrain, Ytrain)\n",
    "mse = mean_squared_error(Ytest, regr_model.predict(Xtest))\n",
    "print(f\"Model: {name}; MSE: {mse}\")"
   ],
   "id": "eddf6330cd49a6bc",
   "outputs": [
    {
     "name": "stdout",
     "output_type": "stream",
     "text": [
      "Model: MLPRegressor; MSE: 0.2713747983891566\n"
     ]
    }
   ],
   "execution_count": 17
  },
  {
   "metadata": {},
   "cell_type": "markdown",
   "source": "### Task 4: Decision trees for regression",
   "id": "8e141156a8baf5b7"
  },
  {
   "metadata": {},
   "cell_type": "markdown",
   "source": "#### 1) Small Dataset Training",
   "id": "2751e4e9fe15e45a"
  },
  {
   "metadata": {},
   "cell_type": "markdown",
   "source": "We first train a tree regressor on a small dataset to see how it works. We will use the Russian dataset for training later.",
   "id": "eea25a319824c2d3"
  },
  {
   "metadata": {
    "ExecuteTime": {
     "end_time": "2025-01-26T17:27:53.931817Z",
     "start_time": "2025-01-26T17:27:53.655924Z"
    }
   },
   "cell_type": "code",
   "source": [
    "# Importing libraries\n",
    "import numpy as np\n",
    "import pandas as pd\n",
    "from graphviz import Digraph\n",
    "from sklearn.base import BaseEstimator, ClassifierMixin\n",
    "from abc import ABC, abstractmethod\n",
    "import matplotlib.pyplot as plt\n",
    "from sklearn.base import RegressorMixin"
   ],
   "id": "940b0ae870aa1936",
   "outputs": [],
   "execution_count": 18
  },
  {
   "metadata": {
    "ExecuteTime": {
     "end_time": "2025-01-26T17:27:53.957829Z",
     "start_time": "2025-01-26T17:27:53.951499Z"
    }
   },
   "cell_type": "code",
   "source": [
    "from sklearn.base import RegressorMixin\n",
    "\n",
    "class TreeRegressor(DecisionTree, RegressorMixin):\n",
    "    def __init__(self, max_depth=10, criterion='variance_reduction'):\n",
    "        super().__init__(max_depth)\n",
    "        self.criterion = criterion\n",
    "\n",
    "    def fit(self, X, Y):\n",
    "\n",
    "        super().fit(X, Y)\n",
    "   # Select a default value that is going to be used if we decide to make a leaf.\n",
    "   # We will select the most common value.\n",
    "    def get_default_value(self, Y):\n",
    "\n",
    "        return np.mean(Y)\n",
    "\n",
    "    # Checks whether a set of output values is homogeneous. In the classification case,\n",
    "    # this means that all output values are identical.\n",
    "    # We assume that we called get_default_value just before, so that we can access\n",
    "    # the class_distribution attribute. If the class distribution contains just one item,\n",
    "    # this means that the set is homogeneous.\n",
    "    def is_homogeneous(self, Y):\n",
    "        variance_threshold = 1e-6\n",
    "        return np.var(Y) < variance_threshold\n",
    "\n",
    "    # Finds the best splitting point for a given feature. We'll keep frequency tables (Counters)\n",
    "    # for the upper and lower parts, and then compute the impurity criterion using these tables.\n",
    "    # In the end, we return a triple consisting of\n",
    "    # - the best score we found, according to the criterion we're using\n",
    "    # - the id of the feature\n",
    "    # - the threshold for the best split\n",
    "    def best_split(self, X, Y, feature, tot_var=None):\n",
    "\n",
    "        # Create a list of input-output pairs, where we have sorted\n",
    "        # in ascending order by the input feature we're considering.\n",
    "        sorted_indices = np.argsort(X[:, feature])\n",
    "        X_sorted = X[sorted_indices, feature]\n",
    "        Y_sorted = Y[sorted_indices]\n",
    "        tot_var = np.var(Y) * len(Y)\n",
    "\n",
    "        n = len(Y)\n",
    "        if n <= 1:\n",
    "            return -np.inf, None, None\n",
    "        total_variance = np.var(Y) * n\n",
    "\n",
    "        # The frequency tables corresponding to the parts *before and including*\n",
    "        # and *after* the current element.\n",
    "        #low_distr = Counter()\n",
    "        #high_distr = Counter(Y)\n",
    "\n",
    "        # Keep track of the best result we've seen so far.\n",
    "        max_score = -np.inf\n",
    "        best_split_point = None\n",
    "\n",
    "        # Initialize sum values for variance computation\n",
    "        partial_low_squared_sum = 0\n",
    "        partial_low_sum_squared = 0\n",
    "        partial_high_squared_sum = np.sum(Y)\n",
    "        partial_high_sum_squared = np.sum(Y ** 2)\n",
    "     # Go through all the positions (excluding the last position).\n",
    "                # Go through all the positions (excluding the last position).\n",
    "        for i in range(0, n-1):\n",
    "\n",
    "            # Input and output at the current position.\n",
    "            x_i = X_sorted[i]\n",
    "            y_i = Y_sorted[i]\n",
    "\n",
    "            partial_low_squared_sum += y_i**2\n",
    "            partial_low_sum_squared += y_i\n",
    "\n",
    "            partial_high_squared_sum -= y_i**2\n",
    "            partial_high_sum_squared -= y_i\n",
    "\n",
    "            n_low = i + 1\n",
    "            n_high = n - n_low\n",
    "            low_var = partial_low_squared_sum / n_low - partial_low_sum_squared**2 / (n_low**2)\n",
    "            high_var = partial_high_squared_sum / n_high - partial_high_sum_squared**2 / (n_high**2)\n",
    "\n",
    "            # Update the frequency tables.\n",
    "            #low_distr[y_i] += 1\n",
    "            #high_distr[y_i] -= 1\n",
    "\n",
    "            # If the input is equal to the input at the next position, we will\n",
    "            # not consider a split here.\n",
    "            #x_next = XY[i+1][0]\n",
    "            x_next = X_sorted[i+1]\n",
    "            if x_i == x_next:\n",
    "                continue\n",
    "\n",
    "            # Compute the homogeneity criterion for a split at this position.\n",
    "            score = tot_var - (n_high * high_var + n_low * low_var) / n\n",
    "\n",
    "            # If this is the best split, remember it.\n",
    "            if score > max_score:\n",
    "                max_score = score\n",
    "                max_i = i\n",
    "\n",
    "        # If we didn't find any split (meaning that all inputs are identical), return\n",
    "        # a dummy value.\n",
    "        if max_i is None:\n",
    "            return -np.inf, None, None\n",
    "\n",
    "        # Otherwise, return the best split we found and its score.\n",
    "        split_point = 0.5*(X_sorted[max_i] + X_sorted[max_i+1])\n",
    "        return max_score, feature, split_point"
   ],
   "id": "a0d52f1033d68bb5",
   "outputs": [],
   "execution_count": 19
  },
  {
   "metadata": {},
   "cell_type": "markdown",
   "source": "Sanity check",
   "id": "1ca8cae7ee3dbb13"
  },
  {
   "metadata": {
    "ExecuteTime": {
     "end_time": "2025-01-26T17:27:54.047320Z",
     "start_time": "2025-01-26T17:27:53.976364Z"
    }
   },
   "cell_type": "code",
   "source": [
    "def make_some_data(n):\n",
    "    x = np.random.uniform(-5, 5, size=n)\n",
    "    Y = (x > 1) + 0.1*np.random.normal(size=n)\n",
    "    X = x.reshape(n, 1) # X needs to be a 2-dimensional matrix\n",
    "    return X, Y\n",
    "X, Y = make_some_data(100)\n",
    "plt.scatter(X, Y)\n",
    "plt.show()"
   ],
   "id": "4bcaaa3f4a825231",
   "outputs": [
    {
     "data": {
      "text/plain": [
       "<Figure size 640x480 with 1 Axes>"
      ],
      "image/png": "[encoded data removed]"
     },
     "metadata": {},
     "output_type": "display_data"
    }
   ],
   "execution_count": 20
  },
  {
   "metadata": {},
   "cell_type": "markdown",
   "source": "It generated a small number of training examples for a simple regression task with one input variable. The output figure is similar to the one in the assignment.",
   "id": "e2a1a3dbd21b4b2f"
  },
  {
   "metadata": {
    "ExecuteTime": {
     "end_time": "2025-01-26T17:27:54.198041Z",
     "start_time": "2025-01-26T17:27:54.065105Z"
    }
   },
   "cell_type": "code",
   "source": [
    "clf = TreeRegressor(max_depth=1)\n",
    "clf.fit(X, Y)\n",
    "clf.draw_tree()"
   ],
   "id": "36599caa0ff4711f",
   "outputs": [
    {
     "data": {
      "image/svg+xml": "<?xml version=\"1.0\" encoding=\"UTF-8\" standalone=\"no\"?>\n<!DOCTYPE svg PUBLIC \"-//W3C//DTD SVG 1.1//EN\"\n \"http://www.w3.org/Graphics/SVG/1.1/DTD/svg11.dtd\">\n<!-- Generated by graphviz version 2.50.0 (0)\n -->\n<!-- Pages: 1 -->\n<svg width=\"190pt\" height=\"131pt\"\n viewBox=\"0.00 0.00 189.89 131.00\" xmlns=\"http://www.w3.org/2000/svg\" xmlns:xlink=\"http://www.w3.org/1999/xlink\">\n<g id=\"graph0\" class=\"graph\" transform=\"scale(1 1) rotate(0) translate(4 127)\">\n<polygon fill=\"white\" stroke=\"transparent\" points=\"-4,4 -4,-127 185.89,-127 185.89,4 -4,4\"/>\n<!-- 0 -->\n<g id=\"node1\" class=\"node\">\n<title>0</title>\n<ellipse fill=\"lightgrey\" stroke=\"black\" cx=\"46.8\" cy=\"-18\" rx=\"46.59\" ry=\"18\"/>\n<text text-anchor=\"middle\" x=\"46.8\" y=\"-14.3\" font-family=\"Times New Roman,serif\" font-size=\"14.00\">&#45;0.004687</text>\n</g>\n<!-- 1 -->\n<g id=\"node2\" class=\"node\">\n<title>1</title>\n<ellipse fill=\"lightgrey\" stroke=\"black\" cx=\"146.8\" cy=\"-18\" rx=\"35.19\" ry=\"18\"/>\n<text text-anchor=\"middle\" x=\"146.8\" y=\"-14.3\" font-family=\"Times New Roman,serif\" font-size=\"14.00\">0.9841</text>\n</g>\n<!-- 2 -->\n<g id=\"node3\" class=\"node\">\n<title>2</title>\n<path fill=\"yellow\" stroke=\"black\" d=\"M129.8,-123C129.8,-123 63.8,-123 63.8,-123 57.8,-123 51.8,-117 51.8,-111 51.8,-111 51.8,-99 51.8,-99 51.8,-93 57.8,-87 63.8,-87 63.8,-87 129.8,-87 129.8,-87 135.8,-87 141.8,-93 141.8,-99 141.8,-99 141.8,-111 141.8,-111 141.8,-117 135.8,-123 129.8,-123\"/>\n<text text-anchor=\"middle\" x=\"96.8\" y=\"-101.3\" font-family=\"Times New Roman,serif\" font-size=\"14.00\">F0 &gt; 0.9713?</text>\n</g>\n<!-- 2&#45;&gt;0 -->\n<g id=\"edge1\" class=\"edge\">\n<title>2&#45;&gt;0</title>\n<path fill=\"none\" stroke=\"black\" d=\"M86.68,-86.8C79.58,-74.74 69.97,-58.4 61.97,-44.79\"/>\n<polygon fill=\"black\" stroke=\"black\" points=\"64.82,-42.73 56.73,-35.89 58.78,-46.28 64.82,-42.73\"/>\n<text text-anchor=\"middle\" x=\"89.3\" y=\"-57.8\" font-family=\"Times New Roman,serif\" font-size=\"14.00\">False</text>\n</g>\n<!-- 2&#45;&gt;1 -->\n<g id=\"edge2\" class=\"edge\">\n<title>2&#45;&gt;1</title>\n<path fill=\"none\" stroke=\"black\" d=\"M106.91,-86.8C114.06,-74.66 123.74,-58.19 131.78,-44.52\"/>\n<polygon fill=\"black\" stroke=\"black\" points=\"134.98,-45.99 137.03,-35.6 128.95,-42.44 134.98,-45.99\"/>\n<text text-anchor=\"middle\" x=\"136.8\" y=\"-57.8\" font-family=\"Times New Roman,serif\" font-size=\"14.00\">True</text>\n</g>\n</g>\n</svg>\n",
      "text/plain": [
       "<graphviz.graphs.Digraph at 0x1b80a489d30>"
      ]
     },
     "execution_count": 21,
     "metadata": {},
     "output_type": "execute_result"
    }
   ],
   "execution_count": 21
  },
  {
   "metadata": {},
   "cell_type": "markdown",
   "source": [
    "After sanity check and small dataset testing(with max_depth=1), we found out that it runs well and can perform well on the small dataset. Now we can proceed to the Russian housing prices prediction.\n",
    "\n",
    "For the data-generating function, the decision tree would be like a binary segmentation based on whether \"x > 1\". We hope the decision tree with a depth of 1 would be sufficient to describe this data. The tree would have a single split point at x = 1, creating two leaf nodes, one representing the average value of the data where x ≤ 1 and the other where x > 1, just like the figure above.\n",
    "\n",
    "A tree depth of 1 was selected based on the simplicity of the data-generating function. The resulting tree successfully splits the data at the optimal threshold (e.g., x = 1.027). The leaf nodes represent the average values of the two partitions, which matches the expected structure of the function. The result makes sense as it aligns with the binary nature of the data.\n",
    "\n",
    "It would cause  overfitting if the data is too complex and the tree is too deep. And we are going to simulate and show the data in the following sections.\n"
   ],
   "id": "e8ae5595b428071e"
  },
  {
   "metadata": {},
   "cell_type": "markdown",
   "source": "#### 2) Russian Housing Prices Prediction",
   "id": "edec8ce59486b43e"
  },
  {
   "metadata": {},
   "cell_type": "markdown",
   "source": "In this part we will use the Sberbank dataset to predict the apartment prices in Russia. We will use the decision tree regression algorithm to predict the prices. Before we start, we need to preprocess the data.",
   "id": "ec2f325d8bd52ad5"
  },
  {
   "metadata": {
    "ExecuteTime": {
     "end_time": "2025-01-26T17:27:54.669612Z",
     "start_time": "2025-01-26T17:27:54.217741Z"
    }
   },
   "cell_type": "code",
   "source": [
    "# Data preprocessing\n",
    "import numpy as np\n",
    "import pandas as pd\n",
    "# Read the CSV file using Pandas.\n",
    "alldata = pd.read_csv(\"sberbank.csv\")\n",
    "\n",
    "# Convert the timestamp string to an integer representing the year.\n",
    "def get_year(timestamp):\n",
    "    return int(timestamp[:4])\n",
    "alldata['year'] = alldata.timestamp.apply(get_year)\n",
    "\n",
    "# Select the 7 input columns and the output column.\n",
    "selected_columns = ['price_doc', 'year', 'full_sq', 'life_sq', 'floor', 'num_room', 'kitch_sq', 'full_all']\n",
    "alldata = alldata[selected_columns]\n",
    "alldata = alldata.dropna()\n",
    "\n",
    "# Shuffle.\n",
    "alldata_shuffled = alldata.sample(frac=1.0, random_state=0)\n",
    "\n",
    "# Separate the input and output columns.\n",
    "X = alldata_shuffled.drop('price_doc', axis=1)\n",
    "# For the output, we'll use the log of the sales price.\n",
    "Y = alldata_shuffled['price_doc'].apply(np.log)\n",
    "\n",
    "# Split into training and test sets.\n",
    "Xtrain, Xtest, Ytrain, Ytest = train_test_split(X, Y, test_size=0.2, random_state=0)\n",
    "\n",
    "from sklearn.dummy import DummyRegressor\n",
    "from sklearn.model_selection import cross_validate\n",
    "m1 = DummyRegressor()\n",
    "cross_validate(m1, Xtrain, Ytrain, scoring='neg_mean_squared_error')"
   ],
   "id": "7e4652bc5d722d6",
   "outputs": [
    {
     "data": {
      "text/plain": [
       "{'fit_time': array([0.00111794, 0.00112438, 0.0011363 , 0.        , 0.        ]),\n",
       " 'score_time': array([0.        , 0.        , 0.        , 0.00110435, 0.        ]),\n",
       " 'test_score': array([-0.39897319, -0.37113485, -0.38083108, -0.39057156, -0.40475168])}"
      ]
     },
     "execution_count": 22,
     "metadata": {},
     "output_type": "execute_result"
    }
   ],
   "execution_count": 22
  },
  {
   "metadata": {},
   "cell_type": "markdown",
   "source": "Step 1. Implementing the regression model",
   "id": "368d485763c81b32"
  },
  {
   "metadata": {
    "ExecuteTime": {
     "end_time": "2025-01-26T17:27:54.713494Z",
     "start_time": "2025-01-26T17:27:54.707578Z"
    }
   },
   "cell_type": "code",
   "source": [
    "class TreeRegressor(DecisionTree, RegressorMixin):\n",
    "\n",
    "    def __init__(self, max_depth=10):\n",
    "        super().__init__(max_depth)\n",
    "\n",
    "    def fit(self, X, Y):\n",
    "        super().fit(X, Y)\n",
    "\n",
    "    # Select a default value that is going to be used if we decide to make a leaf.\n",
    "    # We will select the most common value.\n",
    "    def get_default_value(self, Y):\n",
    "        return np.mean(Y)\n",
    "\n",
    "    # Checks whether a set of output values is homogeneous. In the classification case,\n",
    "    # this means that all output values are identical.\n",
    "    # We assume that we called get_default_value just before, so that we can access\n",
    "    # the class_distribution attribute. If the class distribution contains just one item,\n",
    "    # this means that the set is homogeneous.\n",
    "    def is_homogeneous(self, Y):\n",
    "        variance_threshold = 0.01\n",
    "        return np.var(Y) < variance_threshold\n",
    "\n",
    "    # Finds the best splitting point for a given feature. We'll keep frequency tables (Counters)\n",
    "    # for the upper and lower parts, and then compute the impurity criterion using these tables.\n",
    "    # In the end, we return a triple consisting of\n",
    "    # - the best score we found, according to the criterion we're using\n",
    "    # - the id of the feature\n",
    "    # - the threshold for the best split\n",
    "    def best_split(self, X, Y, feature):\n",
    "\n",
    "        # Create a list of input-output pairs, where we have sorted\n",
    "        # in ascending order by the input feature we're considering.\n",
    "        sorted_indices = np.argsort(X[:, feature])\n",
    "        X_sorted = list(X[sorted_indices, feature])\n",
    "        Y_sorted = list(Y[sorted_indices])\n",
    "\n",
    "        n_row = len(Y)\n",
    "\n",
    "        # The frequency tables corresponding to the parts *before and including*\n",
    "        # and *after* the current element.\n",
    "        low_part = []\n",
    "        high_part = Y_sorted.copy()\n",
    "\n",
    "        # Keep track of the best result we've seen so far.\n",
    "        max_score = -np.inf\n",
    "        max_i = None\n",
    "\n",
    "        # Go through all the positions (excluding the last position).\n",
    "        for i in range(0, n_row-1):\n",
    "\n",
    "            # Input and output at the current position.\n",
    "            x_i = X_sorted[i]\n",
    "            y_i = Y_sorted[i]\n",
    "\n",
    "            # Update the frequency tables.\n",
    "            low_part.append(y_i)\n",
    "            high_part.pop(0)\n",
    "\n",
    "            # If the input is equal to the input at the next position, we will\n",
    "            # not consider a split here.\n",
    "            #x_next = XY[i+1][0]\n",
    "            x_next = X_sorted[i+1]\n",
    "            if x_i == x_next:\n",
    "                continue\n",
    "\n",
    "            # Compute the homogeneity criterion for a split at this position.\n",
    "            s = low_part + high_part\n",
    "            n = n_row\n",
    "            score = np.var(s) - ((i + 1) * np.var(low_part) + (n_row - i - 1) * np.var(high_part)) / n\n",
    "            #score = variance_reduction(i+1, low_part, n_row-i-1, high_part)\n",
    "\n",
    "            # If this is the best split, remember it.\n",
    "            if score > max_score:\n",
    "                max_score = score\n",
    "                max_i = i\n",
    "\n",
    "        # If we didn't find any split (meaning that all inputs are identical), return\n",
    "        # a dummy value.\n",
    "        if max_i is None:\n",
    "            return -np.inf, None, None\n",
    "\n",
    "        # Otherwise, return the best split we found and its score.\n",
    "        split_point = 0.5*(X_sorted[max_i] + X_sorted[max_i+1])\n",
    "        return max_score, feature, split_point"
   ],
   "id": "ae3cddedaa964fc7",
   "outputs": [],
   "execution_count": 23
  },
  {
   "metadata": {},
   "cell_type": "markdown",
   "source": "Step 2. Sanity check",
   "id": "9538eb7a13fa6a50"
  },
  {
   "metadata": {
    "ExecuteTime": {
     "end_time": "2025-01-26T17:27:54.787100Z",
     "start_time": "2025-01-26T17:27:54.736294Z"
    }
   },
   "cell_type": "code",
   "source": [
    "def make_some_data(n):\n",
    "    x = np.random.uniform(-5, 5, size=n)\n",
    "    Y = (x > 1) + 0.1*np.random.normal(size=n)\n",
    "    X = x.reshape(n, 1) # X needs to be a 2-dimensional matrix\n",
    "    return X, Y\n",
    "X, Y = make_some_data(100)\n",
    "plt.scatter(X, Y)\n",
    "plt.show()"
   ],
   "id": "49fc7cd5f5bc4796",
   "outputs": [
    {
     "data": {
      "text/plain": [
       "<Figure size 640x480 with 1 Axes>"
      ],
      "image/png": "[encoded data removed]"
     },
     "metadata": {},
     "output_type": "display_data"
    }
   ],
   "execution_count": 24
  },
  {
   "metadata": {
    "ExecuteTime": {
     "end_time": "2025-01-26T17:27:54.977505Z",
     "start_time": "2025-01-26T17:27:54.792728Z"
    }
   },
   "cell_type": "code",
   "source": [
    "# Small dataset training\n",
    "clf = TreeRegressor(max_depth=1)\n",
    "clf.fit(X, Y)\n",
    "clf.draw_tree()"
   ],
   "id": "44a795c8d93e3ecd",
   "outputs": [
    {
     "data": {
      "image/svg+xml": "<?xml version=\"1.0\" encoding=\"UTF-8\" standalone=\"no\"?>\n<!DOCTYPE svg PUBLIC \"-//W3C//DTD SVG 1.1//EN\"\n \"http://www.w3.org/Graphics/SVG/1.1/DTD/svg11.dtd\">\n<!-- Generated by graphviz version 2.50.0 (0)\n -->\n<!-- Pages: 1 -->\n<svg width=\"164pt\" height=\"131pt\"\n viewBox=\"0.00 0.00 164.25 131.00\" xmlns=\"http://www.w3.org/2000/svg\" xmlns:xlink=\"http://www.w3.org/1999/xlink\">\n<g id=\"graph0\" class=\"graph\" transform=\"scale(1 1) rotate(0) translate(4 127)\">\n<polygon fill=\"white\" stroke=\"transparent\" points=\"-4,4 -4,-127 160.25,-127 160.25,4 -4,4\"/>\n<!-- 0 -->\n<g id=\"node1\" class=\"node\">\n<title>0</title>\n<ellipse fill=\"lightgrey\" stroke=\"black\" cx=\"42.25\" cy=\"-18\" rx=\"42.49\" ry=\"18\"/>\n<text text-anchor=\"middle\" x=\"42.25\" y=\"-14.3\" font-family=\"Times New Roman,serif\" font-size=\"14.00\">&#45;0.02588</text>\n</g>\n<!-- 1 -->\n<g id=\"node2\" class=\"node\">\n<title>1</title>\n<ellipse fill=\"lightgrey\" stroke=\"black\" cx=\"129.25\" cy=\"-18\" rx=\"27\" ry=\"18\"/>\n<text text-anchor=\"middle\" x=\"129.25\" y=\"-14.3\" font-family=\"Times New Roman,serif\" font-size=\"14.00\">1.01</text>\n</g>\n<!-- 2 -->\n<g id=\"node3\" class=\"node\">\n<title>2</title>\n<path fill=\"yellow\" stroke=\"black\" d=\"M114.75,-123C114.75,-123 55.75,-123 55.75,-123 49.75,-123 43.75,-117 43.75,-111 43.75,-111 43.75,-99 43.75,-99 43.75,-93 49.75,-87 55.75,-87 55.75,-87 114.75,-87 114.75,-87 120.75,-87 126.75,-93 126.75,-99 126.75,-99 126.75,-111 126.75,-111 126.75,-117 120.75,-123 114.75,-123\"/>\n<text text-anchor=\"middle\" x=\"85.25\" y=\"-101.3\" font-family=\"Times New Roman,serif\" font-size=\"14.00\">F0 &gt; 1.089?</text>\n</g>\n<!-- 2&#45;&gt;0 -->\n<g id=\"edge1\" class=\"edge\">\n<title>2&#45;&gt;0</title>\n<path fill=\"none\" stroke=\"black\" d=\"M76.54,-86.8C70.5,-74.85 62.34,-58.72 55.49,-45.18\"/>\n<polygon fill=\"black\" stroke=\"black\" points=\"58.43,-43.23 50.79,-35.89 52.18,-46.39 58.43,-43.23\"/>\n<text text-anchor=\"middle\" x=\"81.75\" y=\"-57.8\" font-family=\"Times New Roman,serif\" font-size=\"14.00\">False</text>\n</g>\n<!-- 2&#45;&gt;1 -->\n<g id=\"edge2\" class=\"edge\">\n<title>2&#45;&gt;1</title>\n<path fill=\"none\" stroke=\"black\" d=\"M94.15,-86.8C100.48,-74.58 109.07,-57.98 116.17,-44.26\"/>\n<polygon fill=\"black\" stroke=\"black\" points=\"119.31,-45.8 120.8,-35.31 113.1,-42.58 119.31,-45.8\"/>\n<text text-anchor=\"middle\" x=\"122.25\" y=\"-57.8\" font-family=\"Times New Roman,serif\" font-size=\"14.00\">True</text>\n</g>\n</g>\n</svg>\n",
      "text/plain": [
       "<graphviz.graphs.Digraph at 0x1b8155adaf0>"
      ]
     },
     "execution_count": 25,
     "metadata": {},
     "output_type": "execute_result"
    }
   ],
   "execution_count": 25
  },
  {
   "metadata": {},
   "cell_type": "markdown",
   "source": "Step 3. Predicting apartment prices using decision tree regression",
   "id": "e3a124bd79ecd79"
  },
  {
   "metadata": {
    "ExecuteTime": {
     "end_time": "2025-01-26T17:27:59.197188Z",
     "start_time": "2025-01-26T17:27:54.994868Z"
    }
   },
   "cell_type": "code",
   "source": [
    "Rus = TreeRegressor(max_depth=5)\n",
    "Rus.fit(Xtrain, Ytrain)\n",
    "Rus.score(Xtest, Ytest)"
   ],
   "id": "867d27578928db8c",
   "outputs": [
    {
     "data": {
      "text/plain": [
       "0.27799386048394825"
      ]
     },
     "execution_count": 26,
     "metadata": {},
     "output_type": "execute_result"
    }
   ],
   "execution_count": 26
  },
  {
   "metadata": {},
   "cell_type": "markdown",
   "source": "For this prediction, as we studied before, we knew there would be a difference in performance if we choose different depths. Thus, we chose 5 as the value of max_depth to test. The evaluation score is 0.28. This score indicates the proportion of variance explained by the model on the test set, which reflects the predictive performance of the decision tree.",
   "id": "56e139f10525183f"
  },
  {
   "metadata": {},
   "cell_type": "markdown",
   "source": "Step 4. Underfitting and overfitting",
   "id": "16c5e3d0b2334a84"
  },
  {
   "metadata": {
    "ExecuteTime": {
     "end_time": "2025-01-26T17:28:57.405341Z",
     "start_time": "2025-01-26T17:27:59.273592Z"
    }
   },
   "cell_type": "code",
   "source": [
    "from sklearn.metrics import r2_score\n",
    "\n",
    "def test_tree_regressor_depth(X_train, X_test, Y_train, Y_test, max_depth=13):\n",
    "\n",
    "    depths = np.arange(0, max_depth)\n",
    "    train_scores = []\n",
    "    test_scores = []\n",
    "\n",
    "    print(\"Depth | Training Score | Testing Score\")\n",
    "    print(\"-------------------------------------\")\n",
    "\n",
    "    for depth in depths:\n",
    "        rus = TreeRegressor(max_depth=depth)\n",
    "\n",
    "        rus.fit(X_train.values, Y_train.values)\n",
    "\n",
    "        Y_train_pred = rus.predict(X_train.values)\n",
    "        Y_test_pred = rus.predict(X_test.values)\n",
    "\n",
    "        train_score = r2_score(Y_train.values, Y_train_pred)\n",
    "        test_score = r2_score(Y_test.values, Y_test_pred)\n",
    "\n",
    "        train_scores.append(train_score)\n",
    "        test_scores.append(test_score)\n",
    "\n",
    "        print(f\"{depth:<5} | {train_score:<14.4f} | {test_score:<14.4f}\")\n",
    "\n",
    "    plt.figure(figsize=(10, 6))\n",
    "    plt.plot(depths, train_scores, label='Training Score', marker='o', color='blue')\n",
    "    plt.plot(depths, test_scores, label='Testing Score', marker='o', color='orange')\n",
    "    plt.axvline(x=np.argmax(test_scores), color='green', linestyle='--', label='Best Depth')\n",
    "    plt.title('Tree Depth vs R² Score', fontsize=14)\n",
    "    plt.xlabel('Tree Depth', fontsize=12)\n",
    "    plt.ylabel('R² Score', fontsize=12)\n",
    "    plt.legend(fontsize=12)\n",
    "    plt.grid(alpha=0.5)\n",
    "    plt.show()\n",
    "\n",
    "    best_depth = np.argmax(test_scores)\n",
    "    print(\"\\nBest cooperation:\")\n",
    "    print(f\"Best depth: {best_depth}\")\n",
    "    print(f\"Max test score: {max(test_scores):.4f}\")\n",
    "\n",
    "test_tree_regressor_depth(Xtrain, Xtest, Ytrain, Ytest, max_depth=13)\n",
    "\n"
   ],
   "id": "98211a2625d8d2df",
   "outputs": [
    {
     "name": "stdout",
     "output_type": "stream",
     "text": [
      "Depth | Training Score | Testing Score\n",
      "-------------------------------------\n",
      "0     | 0.0000         | -0.0001       \n",
      "1     | 0.1614         | 0.1534        \n",
      "2     | 0.2280         | 0.2263        \n",
      "3     | 0.2566         | 0.2505        \n",
      "4     | 0.2786         | 0.2723        \n",
      "5     | 0.2955         | 0.2780        \n",
      "6     | 0.3156         | 0.2893        \n",
      "7     | 0.3389         | 0.2783        \n",
      "8     | 0.3652         | 0.2551        \n",
      "9     | 0.3906         | 0.2364        \n",
      "10    | 0.4249         | 0.2189        \n",
      "11    | 0.4641         | 0.1904        \n",
      "12    | 0.5037         | 0.1454        \n"
     ]
    },
    {
     "data": {
      "text/plain": [
       "<Figure size 1000x600 with 1 Axes>"
      ],
      "image/png": "[encoded data removed]"
     },
     "metadata": {},
     "output_type": "display_data"
    },
    {
     "name": "stdout",
     "output_type": "stream",
     "text": [
      "\n",
      "Best cooperation:\n",
      "Best depth: 6\n",
      "Max test score: 0.2893\n"
     ]
    }
   ],
   "execution_count": 27
  },
  {
   "metadata": {},
   "cell_type": "markdown",
   "source": "In the final underfitting and overfitting analysis, the blue curve represents the training score and the orange curve represents the testing score. The green line represents the best depth that achieves the highest testing score. For the blue curve, the score rises as the depth increases, indicating that the model is overfitting the training data. For the orange curve, the score increases as the depth increases, however, when reaching a pole, the score starts to decrease, indicating that the model is starting to overfit the test data. And among the range of the assignment, the best depth is 6 after comparing to each other. the Max test score is 0.2893, which is the best score we can get. The chart shows the total depths we tried and the corresponding scores also with the figure above.",
   "id": "f75a36ac1de5a5a6"
  }
 ],
 "metadata": {
  "kernelspec": {
   "name": "python3",
   "language": "python",
   "display_name": "Python 3 (ipykernel)"
  }
 },
 "nbformat": 5,
 "nbformat_minor": 9
}
