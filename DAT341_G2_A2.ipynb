{
 "cells": [
  {
   "cell_type": "markdown",
   "id": "c180513e-3362-44e0-aae5-89a916ca5fc9",
   "metadata": {},
   "source": [
    "## Task 1: Working with a dataset with categorical features"
   ]
  },
  {
   "cell_type": "markdown",
   "id": "13f55677-d7ef-4884-8636-a3560ebb4abf",
   "metadata": {},
   "source": [
    "#### Step 1: Reading the data\n",
    "\n",
    "Firstly, we should read the data from both training dataset and testing dataset."
   ]
  },
  {
   "cell_type": "code",
   "execution_count": 14,
   "id": "80bb4814-b75d-4033-9f7e-5877d6c29479",
   "metadata": {},
   "outputs": [
    {
     "name": "stdout",
     "output_type": "stream",
     "text": [
      "X_train:\n",
      "   age workclass     education  education-num      marital-status  \\\n",
      "0   27   Private  Some-college             10            Divorced   \n",
      "1   27   Private     Bachelors             13       Never-married   \n",
      "2   25   Private    Assoc-acdm             12  Married-civ-spouse   \n",
      "3   46   Private       5th-6th              3  Married-civ-spouse   \n",
      "4   45   Private          11th              7            Divorced   \n",
      "\n",
      "         occupation   relationship                race     sex  capital-gain  \\\n",
      "0      Adm-clerical      Unmarried               White  Female             0   \n",
      "1    Prof-specialty  Not-in-family               White  Female             0   \n",
      "2             Sales        Husband               White    Male             0   \n",
      "3  Transport-moving        Husband  Amer-Indian-Eskimo    Male             0   \n",
      "4  Transport-moving  Not-in-family               White    Male             0   \n",
      "\n",
      "   capital-loss  hours-per-week native-country  \n",
      "0             0              44  United-States  \n",
      "1             0              40  United-States  \n",
      "2             0              40  United-States  \n",
      "3          1902              40  United-States  \n",
      "4          2824              76  United-States  \n",
      "\n",
      " y_train:\n",
      "0    <=50K\n",
      "1    <=50K\n",
      "2    <=50K\n",
      "3    <=50K\n",
      "4     >50K\n",
      "Name: target, dtype: object\n",
      "\n",
      " X_test:\n",
      "   age  workclass     education  education-num      marital-status  \\\n",
      "0   25    Private          11th              7       Never-married   \n",
      "1   38    Private       HS-grad              9  Married-civ-spouse   \n",
      "2   28  Local-gov    Assoc-acdm             12  Married-civ-spouse   \n",
      "3   44    Private  Some-college             10  Married-civ-spouse   \n",
      "4   18          ?  Some-college             10       Never-married   \n",
      "\n",
      "          occupation relationship   race     sex  capital-gain  capital-loss  \\\n",
      "0  Machine-op-inspct    Own-child  Black    Male             0             0   \n",
      "1    Farming-fishing      Husband  White    Male             0             0   \n",
      "2    Protective-serv      Husband  White    Male             0             0   \n",
      "3  Machine-op-inspct      Husband  Black    Male          7688             0   \n",
      "4                  ?    Own-child  White  Female             0             0   \n",
      "\n",
      "   hours-per-week native-country  \n",
      "0              40  United-States  \n",
      "1              50  United-States  \n",
      "2              40  United-States  \n",
      "3              40  United-States  \n",
      "4              30  United-States  \n",
      "\n",
      " y_test:\n",
      "0    <=50K\n",
      "1    <=50K\n",
      "2     >50K\n",
      "3     >50K\n",
      "4    <=50K\n",
      "Name: target, dtype: object\n"
     ]
    }
   ],
   "source": [
    "import pandas as pd\n",
    "\n",
    "train_data = pd.read_csv('D:/Study/Applied_ML/adult_train.csv') \n",
    "test_data = pd.read_csv('D:/Study/Applied_ML/adult_test.csv')    \n",
    "X_train = train_data.drop(columns=['target'])  \n",
    "y_train = train_data['target']                \n",
    "\n",
    "X_test = test_data.drop(columns=['target'])    \n",
    "y_test = test_data['target']                   \n",
    "\n",
    "print(\"X_train:\")\n",
    "print(X_train.head())\n",
    "print(\"\\n y_train:\")\n",
    "print(y_train.head())\n",
    "print(\"\\n X_test:\")\n",
    "print(X_test.head())\n",
    "print(\"\\n y_test:\")\n",
    "print(y_test.head())"
   ]
  },
  {
   "cell_type": "markdown",
   "id": "bcfab86f-e73e-4d7d-9976-aecac2f163a6",
   "metadata": {},
   "source": [
    "#### Task 2: Encoding the features as numbers."
   ]
  },
  {
   "cell_type": "code",
   "execution_count": 19,
   "id": "ca88b058-9b96-498b-8d41-6b700d5b3890",
   "metadata": {},
   "outputs": [
    {
     "name": "stdout",
     "output_type": "stream",
     "text": [
      "Training: (32561, 107)\n",
      "Testing: (16281, 107)\n"
     ]
    }
   ],
   "source": [
    "import pandas as pd\n",
    "from sklearn.feature_extraction import DictVectorizer\n",
    "\n",
    "dicts_for_train = X_train.to_dict('records')\n",
    "dicts_for_test = X_test.to_dict('records')\n",
    "\n",
    "dv = DictVectorizer()\n",
    "X_train_encoded = dv.fit_transform(dicts_for_train)\n",
    "X_test_encoded = dv.transform(dicts_for_test)\n",
    "\n",
    "print(f\"Training: {X_train_encoded.shape}\")\n",
    "print(f\"Testing: {X_test_encoded.shape}\")"
   ]
  },
  {
   "cell_type": "markdown",
   "id": "426cbe99-2321-4157-9deb-9c337412fdd7",
   "metadata": {},
   "source": [
    "#### Step 3: Combining the steps\n",
    "\n",
    "Then we could define the step to simply the process."
   ]
  },
  {
   "cell_type": "code",
   "execution_count": 26,
   "id": "50f39ea0-b5f4-42ee-8fac-dba31a561600",
   "metadata": {},
   "outputs": [
    {
     "name": "stdout",
     "output_type": "stream",
     "text": [
      "The accuracy of this model is: 0.8178\n"
     ]
    }
   ],
   "source": [
    "from sklearn.pipeline import make_pipeline\n",
    "from sklearn.feature_extraction import DictVectorizer\n",
    "from sklearn.tree import DecisionTreeClassifier\n",
    "from sklearn.metrics import accuracy_score\n",
    "\n",
    "pipeline = make_pipeline(\n",
    "    DictVectorizer(),\n",
    "    DecisionTreeClassifier()\n",
    ")\n",
    "\n",
    "pipeline.fit(dicts_for_train, y_train)\n",
    "y_pre = pipeline.predict(dicts_for_test)\n",
    "accuracy = accuracy_score(y_test, y_pre)\n",
    "print(f\"The accuracy of this model is: {accuracy:.4f}\")"
   ]
  },
  {
   "cell_type": "code",
   "execution_count": null,
   "id": "767b7634-28ff-44c9-a94f-195e4ff0ff84",
   "metadata": {},
   "outputs": [],
   "source": []
  }
 ],
 "metadata": {
  "kernelspec": {
   "display_name": "Python 3 (ipykernel)",
   "language": "python",
   "name": "python3"
  },
  "language_info": {
   "codemirror_mode": {
    "name": "ipython",
    "version": 3
   },
   "file_extension": ".py",
   "mimetype": "text/x-python",
   "name": "python",
   "nbconvert_exporter": "python",
   "pygments_lexer": "ipython3",
   "version": "3.12.4"
  }
 },
 "nbformat": 4,
 "nbformat_minor": 5
}
