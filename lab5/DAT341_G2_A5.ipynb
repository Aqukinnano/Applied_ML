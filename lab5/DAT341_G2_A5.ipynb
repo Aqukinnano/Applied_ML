{
 "cells": [
  {
   "cell_type": "code",
   "execution_count": null,
   "id": "e8dffdf1-27da-4b8f-9904-16d4ce901dc9",
   "metadata": {},
   "outputs": [],
   "source": [
    "from torchvision.datasets import ImageFolder\n",
    "from torch.utils.data import DataLoader\n",
    "import matplotlib.pyplot as plt\n",
    "import torchvision\n",
    "\n",
    "\n",
    "folder = ImageFolder('a5_data/a5_data/train', transform=torchvision.transforms.ToTensor())\n",
    "loader = DataLoader(folder, batch_size=8, shuffle=True)\n",
    "\n",
    "Xexamples, Yexamples = next(iter(loader))\n",
    "\n",
    "for i in range(8):\n",
    "    plt.subplot(2,4,i+1)  \n",
    "    img = Xexamples[i].numpy().transpose(1, 2, 0)    \n",
    "    plt.imshow(img, interpolation='none')\n",
    "    plt.title('NV' if Yexamples[i] else 'MEL')\n",
    "    plt.xticks([])\n",
    "    plt.yticks([])"
   ]
  },
  {
   "cell_type": "code",
   "execution_count": null,
   "id": "3f34746f-194f-4b31-a144-8e7db0b73084",
   "metadata": {},
   "outputs": [],
   "source": []
  },
  {
   "cell_type": "code",
   "execution_count": null,
   "id": "df807039-973a-4a00-a150-68f47378ea5a",
   "metadata": {},
   "outputs": [],
   "source": []
  }
 ],
 "metadata": {
  "kernelspec": {
   "display_name": "Python [conda env:torchenv]",
   "language": "python",
   "name": "conda-env-torchenv-py"
  },
  "language_info": {
   "codemirror_mode": {
    "name": "ipython",
    "version": 3
   },
   "file_extension": ".py",
   "mimetype": "text/x-python",
   "name": "python",
   "nbconvert_exporter": "python",
   "pygments_lexer": "ipython3",
   "version": "3.10.16"
  }
 },
 "nbformat": 4,
 "nbformat_minor": 5
}
