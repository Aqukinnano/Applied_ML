{
 "cells": [
  {
   "cell_type": "code",
   "execution_count": 61,
   "id": "5f0fea34",
   "metadata": {},
   "outputs": [],
   "source": [
    "import pandas as pd\n",
    "import numpy as np\n",
    "import torch"
   ]
  },
  {
   "cell_type": "markdown",
   "id": "56578f6f",
   "metadata": {},
   "source": [
    "# Task 1"
   ]
  },
  {
   "cell_type": "markdown",
   "id": "1761f4d2",
   "metadata": {},
   "source": [
    "Loading the synthetic dataset. The input data $D = \\{(\\vec{x_i}, y_i)\\}_{i=1}^n$ looks like:\n",
    "\n",
    "$$\n",
    "X = \\begin{pmatrix}\n",
    "\\vec{x_1}\\\\\\vec{x_2}\n",
    "\\end{pmatrix},\n",
    "Y =\\begin{pmatrix}\n",
    "y_1\\\\y_2\n",
    "\\end{pmatrix} \n",
    "$$\n"
   ]
  },
  {
   "cell_type": "code",
   "execution_count": 85,
   "id": "aacba01e",
   "metadata": {},
   "outputs": [],
   "source": [
    "# You may need to edit the path, depending on where you put the files.\n",
    "data = pd.read_csv('data/a4_synthetic.csv')\n",
    "\n",
    "X = data.drop(columns='y').to_numpy()\n",
    "Y = data.y.to_numpy()"
   ]
  },
  {
   "cell_type": "markdown",
   "id": "b166d6ba",
   "metadata": {},
   "source": [
    "Training a linear regression model for this synthetic dataset."
   ]
  },
  {
   "cell_type": "code",
   "execution_count": null,
   "id": "111ff34b",
   "metadata": {},
   "outputs": [
    {
     "name": "stdout",
     "output_type": "stream",
     "text": [
      "Epoch 1: MSE = 0.7999661130823178\n",
      "Epoch 2: MSE = 0.01739239010790688\n",
      "Epoch 3: MSE = 0.009377418010839892\n",
      "Epoch 4: MSE = 0.009355326971438456\n",
      "Epoch 5: MSE = 0.009365440968904255\n",
      "Epoch 6: MSE = 0.009366989180952535\n",
      "Epoch 7: MSE = 0.009367207398577986\n",
      "Epoch 8: MSE = 0.009367238983974492\n",
      "Epoch 9: MSE = 0.009367243704122532\n",
      "Epoch 10: MSE = 0.009367244427185763\n"
     ]
    }
   ],
   "source": [
    "np.random.seed(1)\n",
    "\n",
    "w_init = np.random.normal(size=(2, 1))\n",
    "b_init = np.random.normal(size=(1, 1))\n",
    "\n",
    "# We just declare the parameter tensors. Do not use nn.Linear.\n",
    "w = torch.tensor(w_init, requires_grad=True) # col vector W = (w_1; w_2)\n",
    "b = torch.tensor(b_init, requires_grad=True) # scalar\n",
    "\n",
    "eta = 1e-2\n",
    "# SGD optimizer with a learning rate of eta\n",
    "# Parameters include W and b\n",
    "opt = torch.optim.SGD([w, b], lr=eta)   \n",
    "\n",
    "for i in range(10):\n",
    "    \n",
    "    sum_err = 0\n",
    "    \n",
    "    for row in range(X.shape[0]):\n",
    "        x = torch.tensor(X[[row], :]) # row vector X_i = (x1, x2)\n",
    "        y = torch.tensor(Y[[row]])\n",
    "\n",
    "        # Forward pass.\n",
    "        # compute predicted value for x\n",
    "        y_pred = w.T @ x.T + b\n",
    "        # compute squared error loss\n",
    "        err = (y - y_pred) ** 2\n",
    "        \n",
    "        # Backward and update.\n",
    "        # compute gradients and then update the model.\n",
    "        opt.zero_grad() # Get rid of previously computed gradients.\n",
    "        err.backward() #Compute the gradients.\n",
    "        opt.step() #Update the model.\n",
    "        \n",
    "        # For statistics.\n",
    "        sum_err += err.item()\n",
    "\n",
    "    mse = sum_err / X.shape[0]\n",
    "    print(f'Epoch {i+1}: MSE =', mse)"
   ]
  },
  {
   "cell_type": "markdown",
   "id": "ee3f221d",
   "metadata": {},
   "source": [
    "# Task 2, 3, 4\n",
    "\n",
    "## Computation Node\n",
    "\n",
    "Definition of computation nodes is as follows.\n",
    "\n",
    "#### Overall structure\n",
    "For the tensor calculation `z = x + y`, tensor `z` holds a `AdditionNode` with `left = x, right = y`. \n",
    "\n",
    "#### Backward function\n",
    "In the `backward()` for a certain kind of `Node`, we calculate the following:\n",
    "\n",
    "$$\n",
    "l\\_grad = \\frac{\\partial{Loss}}{\\partial{x}} = \\frac{\\partial{Loss}}{\\partial{z}}\\frac{\\partial{z}}{\\partial{x}} = grad\\_output @ \\frac{\\partial{z}}{\\partial{x}}\\\\\n",
    "$$\n",
    "\n",
    "`r_grad` is simliar as above.\n",
    "\n",
    "We get `grad_output` from the function input, and calculate $\\frac{\\partial{z}}{\\partial{x}}$ according to the computation type.\n",
    "\n",
    "After we calculate the gradient for `x, y`, we invoke `propagate()` to continue backwarding to the deeper layer.\n"
   ]
  },
  {
   "cell_type": "code",
   "execution_count": null,
   "id": "d69a1b2c",
   "metadata": {},
   "outputs": [],
   "source": [
    "class Node:\n",
    "    def __init__(self, left, right):\n",
    "        # left: Tensor\n",
    "        self.left = left\n",
    "        # right: tensor | int (for power only)\n",
    "        self.right = right\n",
    "    \n",
    "    def backward(self, grad_output):\n",
    "        raise NotImplementedError('Unimplemented')\n",
    "\n",
    "    # Invoke backward() for left&right tensors(operands).\n",
    "    def propagate(self, l_grad, r_grad):\n",
    "        self.left.backward(l_grad)\n",
    "        # when powering, we don't need a derivative w.r.t. the exponent.\n",
    "        if isinstance(r_grad, np.ndarray):\n",
    "            self.right.backward(r_grad)\n",
    "        \n",
    "    def __repr__(self):        \n",
    "        return str(type(self))\n",
    "        \n",
    "\n",
    "class AdditionNode(Node):\n",
    "    def backward(self, grad_output):        \n",
    "        l_grad = grad_output\n",
    "        r_grad = grad_output\n",
    "        self.propagate(l_grad, r_grad)\n",
    "        \n",
    "class SubstractionNode(Node):\n",
    "    def backward(self, grad_output): \n",
    "        l_grad = grad_output\n",
    "        r_grad = -grad_output\n",
    "        self.propagate(l_grad, r_grad)\n",
    "    \n",
    "class MatMulNode(Node):\n",
    "    def backward(self, grad_output):  \n",
    "        l_grad = grad_output @ self.right.data.T\n",
    "        r_grad = self.left.data.T @ grad_output\n",
    "        self.propagate(l_grad, r_grad)\n",
    "    \n",
    "class PowerNode(Node):\n",
    "    def backward(self, grad_output):  \n",
    "        base, exp = self.left.data, self.right\n",
    "        par_der = exp * (base ** (exp - 1))\n",
    "        l_grad = grad_output @ par_der\n",
    "        self.propagate(l_grad, None)"
   ]
  },
  {
   "cell_type": "markdown",
   "id": "d4b1584b",
   "metadata": {},
   "source": [
    "## Tensor\n",
    "\n",
    "We construct our own `Tensor` as follows.\n",
    "\n",
    "#### Overall structure\n",
    "\n",
    "A `tensor` has a `np.ndarray` for storing data, a `Node` called `grad_fn` to record computation, and `requires_grad | grad` to store the gradient of loss function w.r.t. the tensor.\n",
    "\n",
    "#### Backward function\n",
    "\n",
    "The `backward()` for `Tensor` looks like:\n",
    "\n",
    "```python\n",
    "if tensor x is a calculated value:\n",
    "    Back propagate grad_ouput.\n",
    "else:\n",
    "    Exit recursion. Store grad if needed\n",
    "```\n",
    "\n",
    "#### Arithmatic operation\n",
    "\n",
    "For every operation, we create the corresponding computation `Node`."
   ]
  },
  {
   "cell_type": "code",
   "execution_count": 82,
   "id": "56be71d4",
   "metadata": {},
   "outputs": [],
   "source": [
    "class Tensor:\n",
    "    \n",
    "    # Constructor. Just store the input values.\n",
    "    def __init__(self, data, requires_grad=False, grad_fn=None):\n",
    "        #data: ndarray\n",
    "        self.data = data\n",
    "        self.shape = data.shape\n",
    "        #grad_fn: Node | None\n",
    "        self.grad_fn = grad_fn\n",
    "        self.requires_grad = requires_grad\n",
    "        #grad: None | np.ndarray\n",
    "        self.grad = None\n",
    "        \n",
    "    # So that we can print the object or show it in a notebook cell.\n",
    "    def __repr__(self):\n",
    "        dstr = repr(self.data)\n",
    "        if self.requires_grad:\n",
    "            gstr = ', requires_grad=True'\n",
    "        elif self.grad_fn is not None:\n",
    "            gstr = f', grad_fn={self.grad_fn}'\n",
    "        else:\n",
    "            gstr = ''\n",
    "        return f'Tensor({dstr}{gstr})'\n",
    "    \n",
    "    # Extract one numerical value from this tensor.\n",
    "    def item(self):\n",
    "        return self.data.item()    \n",
    "    \n",
    "    # YOUR WORK WILL BE DONE BELOW\n",
    "    \n",
    "    # For Task 2:\n",
    "    \n",
    "    # Operator +\n",
    "    def __add__(self, right):\n",
    "        # Call the helper function defined below.\n",
    "        return addition(self, right)\n",
    "\n",
    "    # Operator -\n",
    "    def __sub__(self, right):\n",
    "        return substraction(self, right)\n",
    "                \n",
    "    # Operator @\n",
    "    def __matmul__(self, right):\n",
    "        return matrix_multiplication(self, right)\n",
    "\n",
    "    # Operator **\n",
    "    def __pow__(self, right):\n",
    "        # NOTE! We are assuming that right is an integer here, not a Tensor!\n",
    "        if not isinstance(right, int):\n",
    "            raise Exception('only integers allowed')\n",
    "        if right < 2:\n",
    "            raise Exception('power must be >= 2')\n",
    "        return power(self, right)\n",
    "\n",
    "    \n",
    "    # Backward computations. Will be implemented in Task 4.\n",
    "    def backward(self, grad_output=None):\n",
    "        # We first check if this tensor has a grad_fn: that is, one of the \n",
    "        # nodes that you defined in Task 3.\n",
    "        if self.grad_fn is not None:\n",
    "            # If grad_fn is defined, we have computed this tensor using some operation.\n",
    "            if grad_output is None:\n",
    "                # This is the starting point of the backward computation.\n",
    "                # This will typically be the tensor storing the output of\n",
    "                # the loss function, on which we have called .backward()\n",
    "                # in the training loop.\n",
    "\n",
    "                # Note that ∂A/∂A = I, A & I share the same shape\n",
    "                self.grad_fn.backward(np.eye(self.data.shape[0]))\n",
    "            else:\n",
    "                # This is an intermediate node in the computational graph.                \n",
    "                # This corresponds to any intermediate computation, such as\n",
    "                # a hidden layer.\n",
    "                self.grad_fn.backward(grad_output)\n",
    "        else:\n",
    "            # If grad_fn is not defined, this is an endpoint in the computational\n",
    "            # graph: learnable model parameters or input data.\n",
    "            if self.requires_grad:\n",
    "                # This tensor *requires* a gradient to be computed. This will\n",
    "                # typically be a tensor that holds learnable parameters.\n",
    "                self.grad = grad_output\n",
    "            else:\n",
    "                # This tensor *does not require* a gradient to be computed. This \n",
    "                # will typically be a tensor holding input data.\n",
    "                pass\n",
    "\n",
    "        \n",
    "# A small utility where we simply create a Tensor object. We use this to \n",
    "# mimic torch.tensor.\n",
    "def tensor(data, requires_grad=False):\n",
    "    return Tensor(data, requires_grad)\n",
    "        \n",
    "# We define helper functions to implement the various arithmetic operations.\n",
    "\n",
    "# This function takes two tensors as input, and returns a new tensor holding\n",
    "# the result of an element-wise addition on the two input tensors.\n",
    "def addition(left, right):\n",
    "    new_data = left.data + right.data \n",
    "    grad_fn = AdditionNode(left, right)\n",
    "    return Tensor(new_data, grad_fn=grad_fn)\n",
    "\n",
    "def substraction(left, right):\n",
    "    new_data = left.data - right.data\n",
    "    grad_fn = SubstractionNode(left, right)\n",
    "    return Tensor(new_data, grad_fn=grad_fn)\n",
    "     \n",
    "def matrix_multiplication(left, right):\n",
    "    new_data = left.data @ right.data\n",
    "    grad_fn = MatMulNode(left, right)\n",
    "    return Tensor(new_data, grad_fn=grad_fn)\n",
    "    \n",
    "def power(left, right): # left = base, and right = exp\n",
    "    new_data = left.data ** right\n",
    "    grad_fn = PowerNode(left, right)\n",
    "    return Tensor(new_data, grad_fn=grad_fn)\n",
    "    "
   ]
  },
  {
   "cell_type": "markdown",
   "id": "36d0f04c",
   "metadata": {},
   "source": [
    "## Sanity Checks for Task 2, 3, 4\n",
    "\n",
    "Some sanity checks for Task 2."
   ]
  },
  {
   "cell_type": "code",
   "execution_count": 66,
   "id": "f2014827",
   "metadata": {},
   "outputs": [
    {
     "name": "stdout",
     "output_type": "stream",
     "text": [
      "Test of addition: [[2. 3.]] + [[1. 4.]] = [[3. 7.]]\n",
      "Test of subtraction: [[2. 3.]] - [[1. 4.]] = [[ 1. -1.]]\n",
      "Test of power: [[1. 4.]] ** 2 = [[ 1. 16.]]\n",
      "Test of matrix multiplication: [[2. 3.]] @ [[-1. ]\n",
      " [ 1.2]] = [[1.6]]\n"
     ]
    }
   ],
   "source": [
    "# Two tensors holding row vectors.\n",
    "x1 = tensor(np.array([[2.0, 3.0]]))\n",
    "x2 = tensor(np.array([[1.0, 4.0]]))\n",
    "# A tensors holding a column vector.\n",
    "w = tensor(np.array([[-1.0], [1.2]]))\n",
    "\n",
    "# Test the arithmetic operations.\n",
    "test_plus = x1 + x2\n",
    "test_minus = x1 - x2\n",
    "test_power = x2 ** 2\n",
    "test_matmul = x1 @ w\n",
    "\n",
    "print(f'Test of addition: {x1.data} + {x2.data} = {test_plus.data}')\n",
    "print(f'Test of subtraction: {x1.data} - {x2.data} = {test_minus.data}')\n",
    "print(f'Test of power: {x2.data} ** 2 = {test_power.data}')\n",
    "print(f'Test of matrix multiplication: {x1.data} @ {w.data} = {test_matmul.data}')\n",
    "\n",
    "# Check that the results are as expected. Will crash if there is a miscalculation.\n",
    "assert(np.allclose(test_plus.data, np.array([[3.0, 7.0]])))\n",
    "assert(np.allclose(test_minus.data, np.array([[1.0, -1.0]])))\n",
    "assert(np.allclose(test_power.data, np.array([[1.0, 16.0]])))\n",
    "assert(np.allclose(test_matmul.data, np.array([[1.6]])))"
   ]
  },
  {
   "cell_type": "markdown",
   "id": "9cc1bb77-e869-4e08-8996-3674eed101e6",
   "metadata": {},
   "source": [
    "Sanity check for Task 3."
   ]
  },
  {
   "cell_type": "code",
   "execution_count": 70,
   "id": "f3276aba-4def-421b-b12e-bf0d7120f19e",
   "metadata": {},
   "outputs": [
    {
     "name": "stdout",
     "output_type": "stream",
     "text": [
      "Computational graph top node after x + w1 + w2: <class '__main__.AdditionNode'>\n"
     ]
    }
   ],
   "source": [
    "x = tensor(np.array([[2.0, 3.0]]))\n",
    "w1 = tensor(np.array([[1.0, 4.0]]), requires_grad=True)\n",
    "w2 = tensor(np.array([[3.0, -1.0]]), requires_grad=True)\n",
    "\n",
    "test_graph = x + w1 + w2\n",
    "\n",
    "print('Computational graph top node after x + w1 + w2:', test_graph.grad_fn)\n",
    "\n",
    "assert(isinstance(test_graph.grad_fn, AdditionNode))\n",
    "assert(test_graph.grad_fn.right is w2)\n",
    "assert(test_graph.grad_fn.left.grad_fn.left is x)\n",
    "assert(test_graph.grad_fn.left.grad_fn.right is w1)"
   ]
  },
  {
   "cell_type": "markdown",
   "id": "529a9bfb-ea55-4bce-9356-4956316e1904",
   "metadata": {},
   "source": [
    "Sanity check for Task 4."
   ]
  },
  {
   "cell_type": "code",
   "execution_count": 83,
   "id": "32687661-a67d-4bef-9a90-7dabb93380a2",
   "metadata": {},
   "outputs": [
    {
     "name": "stdout",
     "output_type": "stream",
     "text": [
      "Gradient of loss w.r.t. w =\n",
      " [[5.6]\n",
      " [8.4]]\n"
     ]
    }
   ],
   "source": [
    "x = tensor(np.array([[2.0, 3.0]]))\n",
    "w = tensor(np.array([[-1.0], [1.2]]), requires_grad=True)\n",
    "y = tensor(np.array([[0.2]]))\n",
    "\n",
    "# We could as well write simply loss = (x @ w - y)**2\n",
    "# We break it down into steps here if you need to debug.\n",
    "\n",
    "model_out = x @ w \n",
    "diff = model_out - y\n",
    "loss = diff ** 2\n",
    "\n",
    "loss.backward()\n",
    "\n",
    "print('Gradient of loss w.r.t. w =\\n', w.grad)\n",
    "\n",
    "assert(np.allclose(w.grad, np.array([[5.6], [8.4]])))\n",
    "assert(x.grad is None)\n",
    "assert(y.grad is None)"
   ]
  },
  {
   "cell_type": "markdown",
   "id": "541cc295",
   "metadata": {},
   "source": [
    "An equivalent cell using PyTorch code. Your implementation should give the same result for `w.grad`."
   ]
  },
  {
   "cell_type": "code",
   "execution_count": 84,
   "id": "cabcc94a",
   "metadata": {},
   "outputs": [
    {
     "data": {
      "text/plain": [
       "tensor([[5.6000],\n",
       "        [8.4000]], dtype=torch.float64)"
      ]
     },
     "execution_count": 84,
     "metadata": {},
     "output_type": "execute_result"
    }
   ],
   "source": [
    "pt_x = torch.tensor(np.array([[2.0, 3.0]]))\n",
    "pt_w = torch.tensor(np.array([[-1.0], [1.2]]), requires_grad=True)\n",
    "pt_y = torch.tensor(np.array([[0.2]]))\n",
    "\n",
    "pt_model_out = pt_x @ pt_w \n",
    "pt_model_out.retain_grad() # Keep the gradient of intermediate nodes for debugging.\n",
    "\n",
    "pt_diff = pt_model_out - pt_y\n",
    "pt_diff.retain_grad()\n",
    "\n",
    "pt_loss = pt_diff ** 2\n",
    "pt_loss.retain_grad()\n",
    "\n",
    "pt_loss.backward()\n",
    "pt_w.grad"
   ]
  },
  {
   "cell_type": "markdown",
   "id": "d0b5439b",
   "metadata": {},
   "source": [
    "# Task 5"
   ]
  },
  {
   "cell_type": "code",
   "execution_count": null,
   "id": "0b03a8c5",
   "metadata": {},
   "outputs": [],
   "source": [
    "class Optimizer:\n",
    "    def __init__(self, params):\n",
    "        self.params = params\n",
    "    \n",
    "    def zero_grad(self):\n",
    "        for p in self.params:\n",
    "            p.grad = np.zeros_like(p.data)\n",
    "        \n",
    "    def step(self):        \n",
    "        raise NotImplementedError('Unimplemented')      \n",
    "        \n",
    "\n",
    "class SGD(Optimizer):\n",
    "    def __init__(self, params, lr):\n",
    "        super().__init__(params)\n",
    "        self.lr = lr\n",
    "        \n",
    "    def step(self):\n",
    "        raise NotImplementedError('Unimplemented')"
   ]
  },
  {
   "cell_type": "markdown",
   "id": "28bef171",
   "metadata": {},
   "source": [
    "# Task 6"
   ]
  },
  {
   "cell_type": "code",
   "execution_count": null,
   "id": "da62980a",
   "metadata": {},
   "outputs": [],
   "source": [
    "from sklearn.preprocessing import scale\n",
    "from sklearn.model_selection import train_test_split\n",
    "\n",
    "# You may need to edit the path, depending on where you put the files.\n",
    "a4data = pd.read_csv('data/raisins.csv')\n",
    "\n",
    "X = scale(a4data.drop(columns='Class'))\n",
    "Y = 1.0*(a4data.Class == 'Besni').to_numpy()\n",
    "\n",
    "np.random.seed(0)\n",
    "shuffle = np.random.permutation(len(Y))\n",
    "X = X[shuffle]\n",
    "Y = Y[shuffle]\n",
    "\n",
    "Xtrain, Xtest, Ytrain, Ytest = train_test_split(X, Y, random_state=0, test_size=0.2)"
   ]
  },
  {
   "cell_type": "code",
   "execution_count": null,
   "id": "727929a2",
   "metadata": {},
   "outputs": [],
   "source": []
  }
 ],
 "metadata": {
  "kernelspec": {
   "display_name": "lab1",
   "language": "python",
   "name": "python3"
  },
  "language_info": {
   "codemirror_mode": {
    "name": "ipython",
    "version": 3
   },
   "file_extension": ".py",
   "mimetype": "text/x-python",
   "name": "python",
   "nbconvert_exporter": "python",
   "pygments_lexer": "ipython3",
   "version": "3.12.7"
  }
 },
 "nbformat": 4,
 "nbformat_minor": 5
}
